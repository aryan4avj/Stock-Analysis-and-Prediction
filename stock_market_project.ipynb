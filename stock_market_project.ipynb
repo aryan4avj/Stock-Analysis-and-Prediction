{
  "nbformat": 4,
  "nbformat_minor": 0,
  "metadata": {
    "colab": {
      "name": "stock market project.ipynb",
      "provenance": [],
      "collapsed_sections": [],
      "include_colab_link": true
    },
    "kernelspec": {
      "display_name": "Python 3",
      "name": "python3"
    },
    "language_info": {
      "name": "python"
    }
  },
  "cells": [
    {
      "cell_type": "markdown",
      "metadata": {
        "id": "view-in-github",
        "colab_type": "text"
      },
      "source": [
        "<a href=\"https://colab.research.google.com/github/aryan4avj/Stock-Analysis-and-Prediction/blob/main/stock_market_project.ipynb\" target=\"_parent\"><img src=\"https://colab.research.google.com/assets/colab-badge.svg\" alt=\"Open In Colab\"/></a>"
      ]
    },
    {
      "cell_type": "code",
      "metadata": {
        "id": "ca3BUcAvB3Mo"
      },
      "source": [
        "#Import Pandas, Numpy and PlotLy for Data visualization.\n",
        "import numpy as np\n",
        "import pandas as pd\n",
        "import plotly.graph_objs as go\n",
        "from pandas_datareader import data, wb\n",
        "from datetime import date\n",
        "#Uploading market data for 2019 and 2020\n",
        "COVID_data = \"/content/drive/MyDrive/SPY (1).csv\"\n",
        "PRE_COVID_data = \"/content/drive/MyDrive/SPY (2).csv\""
      ],
      "execution_count": 7,
      "outputs": []
    },
    {
      "cell_type": "code",
      "metadata": {
        "colab": {
          "base_uri": "https://localhost:8080/",
          "height": 404
        },
        "id": "XqCrXRQmDbh8",
        "outputId": "a90e3af1-8f2e-4f44-baf5-d763e71373c2"
      },
      "source": [
        "df = pd.read_csv(COVID_data)\n",
        "pf = pd.read_csv(PRE_COVID_data)\n",
        "df.head()"
      ],
      "execution_count": 8,
      "outputs": [
        {
          "output_type": "error",
          "ename": "FileNotFoundError",
          "evalue": "ignored",
          "traceback": [
            "\u001b[0;31m---------------------------------------------------------------------------\u001b[0m",
            "\u001b[0;31mFileNotFoundError\u001b[0m                         Traceback (most recent call last)",
            "\u001b[0;32m<ipython-input-8-101533259f6d>\u001b[0m in \u001b[0;36m<module>\u001b[0;34m()\u001b[0m\n\u001b[0;32m----> 1\u001b[0;31m \u001b[0mdf\u001b[0m \u001b[0;34m=\u001b[0m \u001b[0mpd\u001b[0m\u001b[0;34m.\u001b[0m\u001b[0mread_csv\u001b[0m\u001b[0;34m(\u001b[0m\u001b[0mCOVID_data\u001b[0m\u001b[0;34m)\u001b[0m\u001b[0;34m\u001b[0m\u001b[0;34m\u001b[0m\u001b[0m\n\u001b[0m\u001b[1;32m      2\u001b[0m \u001b[0mpf\u001b[0m \u001b[0;34m=\u001b[0m \u001b[0mpd\u001b[0m\u001b[0;34m.\u001b[0m\u001b[0mread_csv\u001b[0m\u001b[0;34m(\u001b[0m\u001b[0mPRE_COVID_data\u001b[0m\u001b[0;34m)\u001b[0m\u001b[0;34m\u001b[0m\u001b[0;34m\u001b[0m\u001b[0m\n\u001b[1;32m      3\u001b[0m \u001b[0mdf\u001b[0m\u001b[0;34m.\u001b[0m\u001b[0mhead\u001b[0m\u001b[0;34m(\u001b[0m\u001b[0;34m)\u001b[0m\u001b[0;34m\u001b[0m\u001b[0;34m\u001b[0m\u001b[0m\n",
            "\u001b[0;32m/usr/local/lib/python3.7/dist-packages/pandas/io/parsers.py\u001b[0m in \u001b[0;36mread_csv\u001b[0;34m(filepath_or_buffer, sep, delimiter, header, names, index_col, usecols, squeeze, prefix, mangle_dupe_cols, dtype, engine, converters, true_values, false_values, skipinitialspace, skiprows, skipfooter, nrows, na_values, keep_default_na, na_filter, verbose, skip_blank_lines, parse_dates, infer_datetime_format, keep_date_col, date_parser, dayfirst, cache_dates, iterator, chunksize, compression, thousands, decimal, lineterminator, quotechar, quoting, doublequote, escapechar, comment, encoding, dialect, error_bad_lines, warn_bad_lines, delim_whitespace, low_memory, memory_map, float_precision)\u001b[0m\n\u001b[1;32m    686\u001b[0m     )\n\u001b[1;32m    687\u001b[0m \u001b[0;34m\u001b[0m\u001b[0m\n\u001b[0;32m--> 688\u001b[0;31m     \u001b[0;32mreturn\u001b[0m \u001b[0m_read\u001b[0m\u001b[0;34m(\u001b[0m\u001b[0mfilepath_or_buffer\u001b[0m\u001b[0;34m,\u001b[0m \u001b[0mkwds\u001b[0m\u001b[0;34m)\u001b[0m\u001b[0;34m\u001b[0m\u001b[0;34m\u001b[0m\u001b[0m\n\u001b[0m\u001b[1;32m    689\u001b[0m \u001b[0;34m\u001b[0m\u001b[0m\n\u001b[1;32m    690\u001b[0m \u001b[0;34m\u001b[0m\u001b[0m\n",
            "\u001b[0;32m/usr/local/lib/python3.7/dist-packages/pandas/io/parsers.py\u001b[0m in \u001b[0;36m_read\u001b[0;34m(filepath_or_buffer, kwds)\u001b[0m\n\u001b[1;32m    452\u001b[0m \u001b[0;34m\u001b[0m\u001b[0m\n\u001b[1;32m    453\u001b[0m     \u001b[0;31m# Create the parser.\u001b[0m\u001b[0;34m\u001b[0m\u001b[0;34m\u001b[0m\u001b[0;34m\u001b[0m\u001b[0m\n\u001b[0;32m--> 454\u001b[0;31m     \u001b[0mparser\u001b[0m \u001b[0;34m=\u001b[0m \u001b[0mTextFileReader\u001b[0m\u001b[0;34m(\u001b[0m\u001b[0mfp_or_buf\u001b[0m\u001b[0;34m,\u001b[0m \u001b[0;34m**\u001b[0m\u001b[0mkwds\u001b[0m\u001b[0;34m)\u001b[0m\u001b[0;34m\u001b[0m\u001b[0;34m\u001b[0m\u001b[0m\n\u001b[0m\u001b[1;32m    455\u001b[0m \u001b[0;34m\u001b[0m\u001b[0m\n\u001b[1;32m    456\u001b[0m     \u001b[0;32mif\u001b[0m \u001b[0mchunksize\u001b[0m \u001b[0;32mor\u001b[0m \u001b[0miterator\u001b[0m\u001b[0;34m:\u001b[0m\u001b[0;34m\u001b[0m\u001b[0;34m\u001b[0m\u001b[0m\n",
            "\u001b[0;32m/usr/local/lib/python3.7/dist-packages/pandas/io/parsers.py\u001b[0m in \u001b[0;36m__init__\u001b[0;34m(self, f, engine, **kwds)\u001b[0m\n\u001b[1;32m    946\u001b[0m             \u001b[0mself\u001b[0m\u001b[0;34m.\u001b[0m\u001b[0moptions\u001b[0m\u001b[0;34m[\u001b[0m\u001b[0;34m\"has_index_names\"\u001b[0m\u001b[0;34m]\u001b[0m \u001b[0;34m=\u001b[0m \u001b[0mkwds\u001b[0m\u001b[0;34m[\u001b[0m\u001b[0;34m\"has_index_names\"\u001b[0m\u001b[0;34m]\u001b[0m\u001b[0;34m\u001b[0m\u001b[0;34m\u001b[0m\u001b[0m\n\u001b[1;32m    947\u001b[0m \u001b[0;34m\u001b[0m\u001b[0m\n\u001b[0;32m--> 948\u001b[0;31m         \u001b[0mself\u001b[0m\u001b[0;34m.\u001b[0m\u001b[0m_make_engine\u001b[0m\u001b[0;34m(\u001b[0m\u001b[0mself\u001b[0m\u001b[0;34m.\u001b[0m\u001b[0mengine\u001b[0m\u001b[0;34m)\u001b[0m\u001b[0;34m\u001b[0m\u001b[0;34m\u001b[0m\u001b[0m\n\u001b[0m\u001b[1;32m    949\u001b[0m \u001b[0;34m\u001b[0m\u001b[0m\n\u001b[1;32m    950\u001b[0m     \u001b[0;32mdef\u001b[0m \u001b[0mclose\u001b[0m\u001b[0;34m(\u001b[0m\u001b[0mself\u001b[0m\u001b[0;34m)\u001b[0m\u001b[0;34m:\u001b[0m\u001b[0;34m\u001b[0m\u001b[0;34m\u001b[0m\u001b[0m\n",
            "\u001b[0;32m/usr/local/lib/python3.7/dist-packages/pandas/io/parsers.py\u001b[0m in \u001b[0;36m_make_engine\u001b[0;34m(self, engine)\u001b[0m\n\u001b[1;32m   1178\u001b[0m     \u001b[0;32mdef\u001b[0m \u001b[0m_make_engine\u001b[0m\u001b[0;34m(\u001b[0m\u001b[0mself\u001b[0m\u001b[0;34m,\u001b[0m \u001b[0mengine\u001b[0m\u001b[0;34m=\u001b[0m\u001b[0;34m\"c\"\u001b[0m\u001b[0;34m)\u001b[0m\u001b[0;34m:\u001b[0m\u001b[0;34m\u001b[0m\u001b[0;34m\u001b[0m\u001b[0m\n\u001b[1;32m   1179\u001b[0m         \u001b[0;32mif\u001b[0m \u001b[0mengine\u001b[0m \u001b[0;34m==\u001b[0m \u001b[0;34m\"c\"\u001b[0m\u001b[0;34m:\u001b[0m\u001b[0;34m\u001b[0m\u001b[0;34m\u001b[0m\u001b[0m\n\u001b[0;32m-> 1180\u001b[0;31m             \u001b[0mself\u001b[0m\u001b[0;34m.\u001b[0m\u001b[0m_engine\u001b[0m \u001b[0;34m=\u001b[0m \u001b[0mCParserWrapper\u001b[0m\u001b[0;34m(\u001b[0m\u001b[0mself\u001b[0m\u001b[0;34m.\u001b[0m\u001b[0mf\u001b[0m\u001b[0;34m,\u001b[0m \u001b[0;34m**\u001b[0m\u001b[0mself\u001b[0m\u001b[0;34m.\u001b[0m\u001b[0moptions\u001b[0m\u001b[0;34m)\u001b[0m\u001b[0;34m\u001b[0m\u001b[0;34m\u001b[0m\u001b[0m\n\u001b[0m\u001b[1;32m   1181\u001b[0m         \u001b[0;32melse\u001b[0m\u001b[0;34m:\u001b[0m\u001b[0;34m\u001b[0m\u001b[0;34m\u001b[0m\u001b[0m\n\u001b[1;32m   1182\u001b[0m             \u001b[0;32mif\u001b[0m \u001b[0mengine\u001b[0m \u001b[0;34m==\u001b[0m \u001b[0;34m\"python\"\u001b[0m\u001b[0;34m:\u001b[0m\u001b[0;34m\u001b[0m\u001b[0;34m\u001b[0m\u001b[0m\n",
            "\u001b[0;32m/usr/local/lib/python3.7/dist-packages/pandas/io/parsers.py\u001b[0m in \u001b[0;36m__init__\u001b[0;34m(self, src, **kwds)\u001b[0m\n\u001b[1;32m   2008\u001b[0m         \u001b[0mkwds\u001b[0m\u001b[0;34m[\u001b[0m\u001b[0;34m\"usecols\"\u001b[0m\u001b[0;34m]\u001b[0m \u001b[0;34m=\u001b[0m \u001b[0mself\u001b[0m\u001b[0;34m.\u001b[0m\u001b[0musecols\u001b[0m\u001b[0;34m\u001b[0m\u001b[0;34m\u001b[0m\u001b[0m\n\u001b[1;32m   2009\u001b[0m \u001b[0;34m\u001b[0m\u001b[0m\n\u001b[0;32m-> 2010\u001b[0;31m         \u001b[0mself\u001b[0m\u001b[0;34m.\u001b[0m\u001b[0m_reader\u001b[0m \u001b[0;34m=\u001b[0m \u001b[0mparsers\u001b[0m\u001b[0;34m.\u001b[0m\u001b[0mTextReader\u001b[0m\u001b[0;34m(\u001b[0m\u001b[0msrc\u001b[0m\u001b[0;34m,\u001b[0m \u001b[0;34m**\u001b[0m\u001b[0mkwds\u001b[0m\u001b[0;34m)\u001b[0m\u001b[0;34m\u001b[0m\u001b[0;34m\u001b[0m\u001b[0m\n\u001b[0m\u001b[1;32m   2011\u001b[0m         \u001b[0mself\u001b[0m\u001b[0;34m.\u001b[0m\u001b[0munnamed_cols\u001b[0m \u001b[0;34m=\u001b[0m \u001b[0mself\u001b[0m\u001b[0;34m.\u001b[0m\u001b[0m_reader\u001b[0m\u001b[0;34m.\u001b[0m\u001b[0munnamed_cols\u001b[0m\u001b[0;34m\u001b[0m\u001b[0;34m\u001b[0m\u001b[0m\n\u001b[1;32m   2012\u001b[0m \u001b[0;34m\u001b[0m\u001b[0m\n",
            "\u001b[0;32mpandas/_libs/parsers.pyx\u001b[0m in \u001b[0;36mpandas._libs.parsers.TextReader.__cinit__\u001b[0;34m()\u001b[0m\n",
            "\u001b[0;32mpandas/_libs/parsers.pyx\u001b[0m in \u001b[0;36mpandas._libs.parsers.TextReader._setup_parser_source\u001b[0;34m()\u001b[0m\n",
            "\u001b[0;31mFileNotFoundError\u001b[0m: [Errno 2] No such file or directory: '/content/drive/MyDrive/SPY (1).csv'"
          ]
        }
      ]
    },
    {
      "cell_type": "code",
      "metadata": {
        "id": "7R_cpCYRnZEP"
      },
      "source": [
        "df.tail()"
      ],
      "execution_count": null,
      "outputs": []
    },
    {
      "cell_type": "code",
      "metadata": {
        "id": "GNSDUNTFGI-E"
      },
      "source": [
        "print(df.dtypes)"
      ],
      "execution_count": null,
      "outputs": []
    },
    {
      "cell_type": "code",
      "metadata": {
        "id": "b9aPT-SLGecE"
      },
      "source": [
        "# # change date\n",
        "# import datetime as dt\n",
        "\n",
        "\n",
        "# df['Date'] = pd.to_datetime(df['Date'])\n",
        "# df['Date']=df['Date'].map(dt.datetime.toordinal)\n",
        "\n",
        "# #also for second dataset\n",
        "# pf['Date'] = pd.to_datetime(df['Date'])\n",
        "# pf['Date']=pf['Date'].map(dt.datetime.toordinal)"
      ],
      "execution_count": null,
      "outputs": []
    },
    {
      "cell_type": "code",
      "metadata": {
        "id": "y5TNeMtxtead"
      },
      "source": [
        "df.head()"
      ],
      "execution_count": null,
      "outputs": []
    },
    {
      "cell_type": "code",
      "metadata": {
        "colab": {
          "base_uri": "https://localhost:8080/",
          "height": 162
        },
        "id": "VX4MmpSGGtTb",
        "outputId": "a4676c33-7425-4fb2-991d-ea9fd9cc0ab3"
      },
      "source": [
        "print(df.dtypes)"
      ],
      "execution_count": 9,
      "outputs": [
        {
          "output_type": "error",
          "ename": "NameError",
          "evalue": "ignored",
          "traceback": [
            "\u001b[0;31m---------------------------------------------------------------------------\u001b[0m",
            "\u001b[0;31mNameError\u001b[0m                                 Traceback (most recent call last)",
            "\u001b[0;32m<ipython-input-9-42a6bcf1a5e9>\u001b[0m in \u001b[0;36m<module>\u001b[0;34m()\u001b[0m\n\u001b[0;32m----> 1\u001b[0;31m \u001b[0mprint\u001b[0m\u001b[0;34m(\u001b[0m\u001b[0mdf\u001b[0m\u001b[0;34m.\u001b[0m\u001b[0mdtypes\u001b[0m\u001b[0;34m)\u001b[0m\u001b[0;34m\u001b[0m\u001b[0;34m\u001b[0m\u001b[0m\n\u001b[0m",
            "\u001b[0;31mNameError\u001b[0m: name 'df' is not defined"
          ]
        }
      ]
    },
    {
      "cell_type": "code",
      "metadata": {
        "id": "WFpQiUFpFOeI"
      },
      "source": [
        "categorical_data = df.select_dtypes(exclude=np.number) # we will exclude data with numeric features\n",
        "categorical_col = categorical_data.columns                                                                              # we will store the categorical features in a variable\n",
        "\n",
        "\n",
        "print(\"Categorical Features:\")\n",
        "print(categorical_data.head())\n",
        "print(categorical_col)\n",
        "print(\"====\"*20)"
      ],
      "execution_count": null,
      "outputs": []
    },
    {
      "cell_type": "code",
      "metadata": {
        "id": "xIORtdFOIxCx",
        "outputId": "1a355454-d9e9-41aa-9e85-2e2c54656d3b",
        "colab": {
          "base_uri": "https://localhost:8080/",
          "height": 178
        }
      },
      "source": [
        "df[\"Daily_return\"] = (1+df[\"Close\"]).pct_change(1)\n",
        "df[\"Daily_return\"] = ((df[\"Close\"]/df[\"Close\"].shift(1))-1) "
      ],
      "execution_count": 10,
      "outputs": [
        {
          "output_type": "error",
          "ename": "NameError",
          "evalue": "ignored",
          "traceback": [
            "\u001b[0;31m---------------------------------------------------------------------------\u001b[0m",
            "\u001b[0;31mNameError\u001b[0m                                 Traceback (most recent call last)",
            "\u001b[0;32m<ipython-input-10-47a173536c0d>\u001b[0m in \u001b[0;36m<module>\u001b[0;34m()\u001b[0m\n\u001b[0;32m----> 1\u001b[0;31m \u001b[0mdf\u001b[0m\u001b[0;34m[\u001b[0m\u001b[0;34m\"Daily_return\"\u001b[0m\u001b[0;34m]\u001b[0m \u001b[0;34m=\u001b[0m \u001b[0;34m(\u001b[0m\u001b[0;36m1\u001b[0m\u001b[0;34m+\u001b[0m\u001b[0mdf\u001b[0m\u001b[0;34m[\u001b[0m\u001b[0;34m\"Close\"\u001b[0m\u001b[0;34m]\u001b[0m\u001b[0;34m)\u001b[0m\u001b[0;34m.\u001b[0m\u001b[0mpct_change\u001b[0m\u001b[0;34m(\u001b[0m\u001b[0;36m1\u001b[0m\u001b[0;34m)\u001b[0m\u001b[0;34m\u001b[0m\u001b[0;34m\u001b[0m\u001b[0m\n\u001b[0m\u001b[1;32m      2\u001b[0m \u001b[0mdf\u001b[0m\u001b[0;34m[\u001b[0m\u001b[0;34m\"Daily_return\"\u001b[0m\u001b[0;34m]\u001b[0m \u001b[0;34m=\u001b[0m \u001b[0;34m(\u001b[0m\u001b[0;34m(\u001b[0m\u001b[0mdf\u001b[0m\u001b[0;34m[\u001b[0m\u001b[0;34m\"Close\"\u001b[0m\u001b[0;34m]\u001b[0m\u001b[0;34m/\u001b[0m\u001b[0mdf\u001b[0m\u001b[0;34m[\u001b[0m\u001b[0;34m\"Close\"\u001b[0m\u001b[0;34m]\u001b[0m\u001b[0;34m.\u001b[0m\u001b[0mshift\u001b[0m\u001b[0;34m(\u001b[0m\u001b[0;36m1\u001b[0m\u001b[0;34m)\u001b[0m\u001b[0;34m)\u001b[0m\u001b[0;34m-\u001b[0m\u001b[0;36m1\u001b[0m\u001b[0;34m)\u001b[0m\u001b[0;34m\u001b[0m\u001b[0;34m\u001b[0m\u001b[0m\n",
            "\u001b[0;31mNameError\u001b[0m: name 'df' is not defined"
          ]
        }
      ]
    },
    {
      "cell_type": "code",
      "metadata": {
        "id": "0Ckw_WQhxvi0"
      },
      "source": [
        "print(df.dtypes)"
      ],
      "execution_count": null,
      "outputs": []
    },
    {
      "cell_type": "code",
      "metadata": {
        "colab": {
          "base_uri": "https://localhost:8080/",
          "height": 162
        },
        "id": "x3gTAdeyJU9B",
        "outputId": "3bb51a8f-9974-4b60-fa6b-40af09a6ba36"
      },
      "source": [
        "df.head()"
      ],
      "execution_count": 11,
      "outputs": [
        {
          "output_type": "error",
          "ename": "NameError",
          "evalue": "ignored",
          "traceback": [
            "\u001b[0;31m---------------------------------------------------------------------------\u001b[0m",
            "\u001b[0;31mNameError\u001b[0m                                 Traceback (most recent call last)",
            "\u001b[0;32m<ipython-input-11-c42a15b2c7cf>\u001b[0m in \u001b[0;36m<module>\u001b[0;34m()\u001b[0m\n\u001b[0;32m----> 1\u001b[0;31m \u001b[0mdf\u001b[0m\u001b[0;34m.\u001b[0m\u001b[0mhead\u001b[0m\u001b[0;34m(\u001b[0m\u001b[0;34m)\u001b[0m\u001b[0;34m\u001b[0m\u001b[0;34m\u001b[0m\u001b[0m\n\u001b[0m",
            "\u001b[0;31mNameError\u001b[0m: name 'df' is not defined"
          ]
        }
      ]
    },
    {
      "cell_type": "code",
      "metadata": {
        "id": "W6XVQbScJf6f"
      },
      "source": [
        "pf[\"Daily_return\"] = (1+pf[\"Close\"]).pct_change(1)\n",
        "pf[\"Daily_return\"] = ((pf[\"Close\"]/pf[\"Close\"].shift(1))-1) "
      ],
      "execution_count": null,
      "outputs": []
    },
    {
      "cell_type": "code",
      "metadata": {
        "colab": {
          "base_uri": "https://localhost:8080/",
          "height": 204
        },
        "id": "2hvqONsvJjAZ",
        "outputId": "962b0b83-af00-4d74-f275-686ef824fafa"
      },
      "source": [
        "pf.head()"
      ],
      "execution_count": null,
      "outputs": [
        {
          "output_type": "execute_result",
          "data": {
            "text/html": [
              "<div>\n",
              "<style scoped>\n",
              "    .dataframe tbody tr th:only-of-type {\n",
              "        vertical-align: middle;\n",
              "    }\n",
              "\n",
              "    .dataframe tbody tr th {\n",
              "        vertical-align: top;\n",
              "    }\n",
              "\n",
              "    .dataframe thead th {\n",
              "        text-align: right;\n",
              "    }\n",
              "</style>\n",
              "<table border=\"1\" class=\"dataframe\">\n",
              "  <thead>\n",
              "    <tr style=\"text-align: right;\">\n",
              "      <th></th>\n",
              "      <th>Date</th>\n",
              "      <th>Open</th>\n",
              "      <th>High</th>\n",
              "      <th>Low</th>\n",
              "      <th>Close</th>\n",
              "      <th>Adj Close</th>\n",
              "      <th>Volume</th>\n",
              "      <th>Daily_return</th>\n",
              "    </tr>\n",
              "  </thead>\n",
              "  <tbody>\n",
              "    <tr>\n",
              "      <th>0</th>\n",
              "      <td>2018-01-02</td>\n",
              "      <td>267.839996</td>\n",
              "      <td>268.809998</td>\n",
              "      <td>267.399994</td>\n",
              "      <td>268.769989</td>\n",
              "      <td>252.457245</td>\n",
              "      <td>86655700</td>\n",
              "      <td>NaN</td>\n",
              "    </tr>\n",
              "    <tr>\n",
              "      <th>1</th>\n",
              "      <td>2018-01-03</td>\n",
              "      <td>268.959991</td>\n",
              "      <td>270.640015</td>\n",
              "      <td>268.959991</td>\n",
              "      <td>270.470001</td>\n",
              "      <td>254.054001</td>\n",
              "      <td>90070400</td>\n",
              "      <td>0.006325</td>\n",
              "    </tr>\n",
              "    <tr>\n",
              "      <th>2</th>\n",
              "      <td>2018-01-04</td>\n",
              "      <td>271.200012</td>\n",
              "      <td>272.160004</td>\n",
              "      <td>270.540009</td>\n",
              "      <td>271.609985</td>\n",
              "      <td>255.124817</td>\n",
              "      <td>80636400</td>\n",
              "      <td>0.004215</td>\n",
              "    </tr>\n",
              "    <tr>\n",
              "      <th>3</th>\n",
              "      <td>2018-01-05</td>\n",
              "      <td>272.510010</td>\n",
              "      <td>273.559998</td>\n",
              "      <td>271.950012</td>\n",
              "      <td>273.420013</td>\n",
              "      <td>256.825012</td>\n",
              "      <td>83524000</td>\n",
              "      <td>0.006664</td>\n",
              "    </tr>\n",
              "    <tr>\n",
              "      <th>4</th>\n",
              "      <td>2018-01-08</td>\n",
              "      <td>273.309998</td>\n",
              "      <td>274.100006</td>\n",
              "      <td>272.980011</td>\n",
              "      <td>273.920013</td>\n",
              "      <td>257.294708</td>\n",
              "      <td>57319200</td>\n",
              "      <td>0.001829</td>\n",
              "    </tr>\n",
              "  </tbody>\n",
              "</table>\n",
              "</div>"
            ],
            "text/plain": [
              "         Date        Open        High  ...   Adj Close    Volume  Daily_return\n",
              "0  2018-01-02  267.839996  268.809998  ...  252.457245  86655700           NaN\n",
              "1  2018-01-03  268.959991  270.640015  ...  254.054001  90070400      0.006325\n",
              "2  2018-01-04  271.200012  272.160004  ...  255.124817  80636400      0.004215\n",
              "3  2018-01-05  272.510010  273.559998  ...  256.825012  83524000      0.006664\n",
              "4  2018-01-08  273.309998  274.100006  ...  257.294708  57319200      0.001829\n",
              "\n",
              "[5 rows x 8 columns]"
            ]
          },
          "metadata": {},
          "execution_count": 13
        }
      ]
    },
    {
      "cell_type": "code",
      "metadata": {
        "colab": {
          "base_uri": "https://localhost:8080/",
          "height": 204
        },
        "id": "3syHTeu_ym8q",
        "outputId": "7b628f5e-64e8-421a-a86b-7ccdbe9ef54d"
      },
      "source": [
        "total = df.isnull().sum()\n",
        "\n",
        "# Converting the missing values in percentage\n",
        "percent = (df.isnull().sum()/df.isnull().count())\n",
        "\n",
        "df.head()"
      ],
      "execution_count": null,
      "outputs": [
        {
          "output_type": "execute_result",
          "data": {
            "text/html": [
              "<div>\n",
              "<style scoped>\n",
              "    .dataframe tbody tr th:only-of-type {\n",
              "        vertical-align: middle;\n",
              "    }\n",
              "\n",
              "    .dataframe tbody tr th {\n",
              "        vertical-align: top;\n",
              "    }\n",
              "\n",
              "    .dataframe thead th {\n",
              "        text-align: right;\n",
              "    }\n",
              "</style>\n",
              "<table border=\"1\" class=\"dataframe\">\n",
              "  <thead>\n",
              "    <tr style=\"text-align: right;\">\n",
              "      <th></th>\n",
              "      <th>Date</th>\n",
              "      <th>Open</th>\n",
              "      <th>High</th>\n",
              "      <th>Low</th>\n",
              "      <th>Close</th>\n",
              "      <th>Adj Close</th>\n",
              "      <th>Volume</th>\n",
              "      <th>Daily_return</th>\n",
              "    </tr>\n",
              "  </thead>\n",
              "  <tbody>\n",
              "    <tr>\n",
              "      <th>0</th>\n",
              "      <td>2020-01-02</td>\n",
              "      <td>323.540009</td>\n",
              "      <td>324.890015</td>\n",
              "      <td>322.529999</td>\n",
              "      <td>324.869995</td>\n",
              "      <td>316.836670</td>\n",
              "      <td>59151200</td>\n",
              "      <td>NaN</td>\n",
              "    </tr>\n",
              "    <tr>\n",
              "      <th>1</th>\n",
              "      <td>2020-01-03</td>\n",
              "      <td>321.160004</td>\n",
              "      <td>323.640015</td>\n",
              "      <td>321.100006</td>\n",
              "      <td>322.410004</td>\n",
              "      <td>314.437500</td>\n",
              "      <td>77709700</td>\n",
              "      <td>-0.007572</td>\n",
              "    </tr>\n",
              "    <tr>\n",
              "      <th>2</th>\n",
              "      <td>2020-01-06</td>\n",
              "      <td>320.489990</td>\n",
              "      <td>323.730011</td>\n",
              "      <td>320.359985</td>\n",
              "      <td>323.640015</td>\n",
              "      <td>315.637115</td>\n",
              "      <td>55653900</td>\n",
              "      <td>0.003815</td>\n",
              "    </tr>\n",
              "    <tr>\n",
              "      <th>3</th>\n",
              "      <td>2020-01-07</td>\n",
              "      <td>323.019989</td>\n",
              "      <td>323.540009</td>\n",
              "      <td>322.239990</td>\n",
              "      <td>322.730011</td>\n",
              "      <td>314.749573</td>\n",
              "      <td>40496400</td>\n",
              "      <td>-0.002812</td>\n",
              "    </tr>\n",
              "    <tr>\n",
              "      <th>4</th>\n",
              "      <td>2020-01-08</td>\n",
              "      <td>322.940002</td>\n",
              "      <td>325.779999</td>\n",
              "      <td>322.670013</td>\n",
              "      <td>324.450012</td>\n",
              "      <td>316.427063</td>\n",
              "      <td>68296000</td>\n",
              "      <td>0.005330</td>\n",
              "    </tr>\n",
              "  </tbody>\n",
              "</table>\n",
              "</div>"
            ],
            "text/plain": [
              "         Date        Open        High  ...   Adj Close    Volume  Daily_return\n",
              "0  2020-01-02  323.540009  324.890015  ...  316.836670  59151200           NaN\n",
              "1  2020-01-03  321.160004  323.640015  ...  314.437500  77709700     -0.007572\n",
              "2  2020-01-06  320.489990  323.730011  ...  315.637115  55653900      0.003815\n",
              "3  2020-01-07  323.019989  323.540009  ...  314.749573  40496400     -0.002812\n",
              "4  2020-01-08  322.940002  325.779999  ...  316.427063  68296000      0.005330\n",
              "\n",
              "[5 rows x 8 columns]"
            ]
          },
          "metadata": {},
          "execution_count": 14
        }
      ]
    },
    {
      "cell_type": "code",
      "metadata": {
        "colab": {
          "base_uri": "https://localhost:8080/"
        },
        "id": "GptCXM7HyvJD",
        "outputId": "0fe52e37-2937-4edd-c91b-53c8a0874ece"
      },
      "source": [
        "df = df.drop((percent[percent > 0.6]).index,axis= 1)\n",
        "\n",
        "# checking null values\n",
        "print(df.isnull().sum())"
      ],
      "execution_count": null,
      "outputs": [
        {
          "output_type": "stream",
          "name": "stdout",
          "text": [
            "Date            0\n",
            "Open            0\n",
            "High            0\n",
            "Low             0\n",
            "Close           0\n",
            "Adj Close       0\n",
            "Volume          0\n",
            "Daily_return    1\n",
            "dtype: int64\n"
          ]
        }
      ]
    },
    {
      "cell_type": "code",
      "metadata": {
        "colab": {
          "base_uri": "https://localhost:8080/",
          "height": 204
        },
        "id": "PX2kZG26yyCn",
        "outputId": "2df636a8-f36b-4127-fff8-31429df9877c"
      },
      "source": [
        "total = pf.isnull().sum()\n",
        "\n",
        "# Converting the missing values in percentage\n",
        "percent = (pf.isnull().sum()/pf.isnull().count())\n",
        "\n",
        "pf.head()"
      ],
      "execution_count": null,
      "outputs": [
        {
          "output_type": "execute_result",
          "data": {
            "text/html": [
              "<div>\n",
              "<style scoped>\n",
              "    .dataframe tbody tr th:only-of-type {\n",
              "        vertical-align: middle;\n",
              "    }\n",
              "\n",
              "    .dataframe tbody tr th {\n",
              "        vertical-align: top;\n",
              "    }\n",
              "\n",
              "    .dataframe thead th {\n",
              "        text-align: right;\n",
              "    }\n",
              "</style>\n",
              "<table border=\"1\" class=\"dataframe\">\n",
              "  <thead>\n",
              "    <tr style=\"text-align: right;\">\n",
              "      <th></th>\n",
              "      <th>Date</th>\n",
              "      <th>Open</th>\n",
              "      <th>High</th>\n",
              "      <th>Low</th>\n",
              "      <th>Close</th>\n",
              "      <th>Adj Close</th>\n",
              "      <th>Volume</th>\n",
              "      <th>Daily_return</th>\n",
              "    </tr>\n",
              "  </thead>\n",
              "  <tbody>\n",
              "    <tr>\n",
              "      <th>0</th>\n",
              "      <td>2018-01-02</td>\n",
              "      <td>267.839996</td>\n",
              "      <td>268.809998</td>\n",
              "      <td>267.399994</td>\n",
              "      <td>268.769989</td>\n",
              "      <td>252.457245</td>\n",
              "      <td>86655700</td>\n",
              "      <td>NaN</td>\n",
              "    </tr>\n",
              "    <tr>\n",
              "      <th>1</th>\n",
              "      <td>2018-01-03</td>\n",
              "      <td>268.959991</td>\n",
              "      <td>270.640015</td>\n",
              "      <td>268.959991</td>\n",
              "      <td>270.470001</td>\n",
              "      <td>254.054001</td>\n",
              "      <td>90070400</td>\n",
              "      <td>0.006325</td>\n",
              "    </tr>\n",
              "    <tr>\n",
              "      <th>2</th>\n",
              "      <td>2018-01-04</td>\n",
              "      <td>271.200012</td>\n",
              "      <td>272.160004</td>\n",
              "      <td>270.540009</td>\n",
              "      <td>271.609985</td>\n",
              "      <td>255.124817</td>\n",
              "      <td>80636400</td>\n",
              "      <td>0.004215</td>\n",
              "    </tr>\n",
              "    <tr>\n",
              "      <th>3</th>\n",
              "      <td>2018-01-05</td>\n",
              "      <td>272.510010</td>\n",
              "      <td>273.559998</td>\n",
              "      <td>271.950012</td>\n",
              "      <td>273.420013</td>\n",
              "      <td>256.825012</td>\n",
              "      <td>83524000</td>\n",
              "      <td>0.006664</td>\n",
              "    </tr>\n",
              "    <tr>\n",
              "      <th>4</th>\n",
              "      <td>2018-01-08</td>\n",
              "      <td>273.309998</td>\n",
              "      <td>274.100006</td>\n",
              "      <td>272.980011</td>\n",
              "      <td>273.920013</td>\n",
              "      <td>257.294708</td>\n",
              "      <td>57319200</td>\n",
              "      <td>0.001829</td>\n",
              "    </tr>\n",
              "  </tbody>\n",
              "</table>\n",
              "</div>"
            ],
            "text/plain": [
              "         Date        Open        High  ...   Adj Close    Volume  Daily_return\n",
              "0  2018-01-02  267.839996  268.809998  ...  252.457245  86655700           NaN\n",
              "1  2018-01-03  268.959991  270.640015  ...  254.054001  90070400      0.006325\n",
              "2  2018-01-04  271.200012  272.160004  ...  255.124817  80636400      0.004215\n",
              "3  2018-01-05  272.510010  273.559998  ...  256.825012  83524000      0.006664\n",
              "4  2018-01-08  273.309998  274.100006  ...  257.294708  57319200      0.001829\n",
              "\n",
              "[5 rows x 8 columns]"
            ]
          },
          "metadata": {},
          "execution_count": 16
        }
      ]
    },
    {
      "cell_type": "code",
      "metadata": {
        "colab": {
          "base_uri": "https://localhost:8080/",
          "height": 204
        },
        "id": "mCerLlmMnqdj",
        "outputId": "28bdf3e3-5653-4afc-dcb7-d96cc49e4b0f"
      },
      "source": [
        "pf.tail()"
      ],
      "execution_count": null,
      "outputs": [
        {
          "output_type": "execute_result",
          "data": {
            "text/html": [
              "<div>\n",
              "<style scoped>\n",
              "    .dataframe tbody tr th:only-of-type {\n",
              "        vertical-align: middle;\n",
              "    }\n",
              "\n",
              "    .dataframe tbody tr th {\n",
              "        vertical-align: top;\n",
              "    }\n",
              "\n",
              "    .dataframe thead th {\n",
              "        text-align: right;\n",
              "    }\n",
              "</style>\n",
              "<table border=\"1\" class=\"dataframe\">\n",
              "  <thead>\n",
              "    <tr style=\"text-align: right;\">\n",
              "      <th></th>\n",
              "      <th>Date</th>\n",
              "      <th>Open</th>\n",
              "      <th>High</th>\n",
              "      <th>Low</th>\n",
              "      <th>Close</th>\n",
              "      <th>Adj Close</th>\n",
              "      <th>Volume</th>\n",
              "      <th>Daily_return</th>\n",
              "    </tr>\n",
              "  </thead>\n",
              "  <tbody>\n",
              "    <tr>\n",
              "      <th>497</th>\n",
              "      <td>2019-12-23</td>\n",
              "      <td>321.589996</td>\n",
              "      <td>321.649994</td>\n",
              "      <td>321.059998</td>\n",
              "      <td>321.220001</td>\n",
              "      <td>313.276947</td>\n",
              "      <td>52990000</td>\n",
              "      <td>0.001528</td>\n",
              "    </tr>\n",
              "    <tr>\n",
              "      <th>498</th>\n",
              "      <td>2019-12-24</td>\n",
              "      <td>321.470001</td>\n",
              "      <td>321.519989</td>\n",
              "      <td>320.899994</td>\n",
              "      <td>321.230011</td>\n",
              "      <td>313.286652</td>\n",
              "      <td>20270000</td>\n",
              "      <td>0.000031</td>\n",
              "    </tr>\n",
              "    <tr>\n",
              "      <th>499</th>\n",
              "      <td>2019-12-26</td>\n",
              "      <td>321.649994</td>\n",
              "      <td>322.950012</td>\n",
              "      <td>321.640015</td>\n",
              "      <td>322.940002</td>\n",
              "      <td>314.954376</td>\n",
              "      <td>30911200</td>\n",
              "      <td>0.005323</td>\n",
              "    </tr>\n",
              "    <tr>\n",
              "      <th>500</th>\n",
              "      <td>2019-12-27</td>\n",
              "      <td>323.739990</td>\n",
              "      <td>323.799988</td>\n",
              "      <td>322.279999</td>\n",
              "      <td>322.859985</td>\n",
              "      <td>314.876373</td>\n",
              "      <td>42528800</td>\n",
              "      <td>-0.000248</td>\n",
              "    </tr>\n",
              "    <tr>\n",
              "      <th>501</th>\n",
              "      <td>2019-12-30</td>\n",
              "      <td>322.950012</td>\n",
              "      <td>323.100006</td>\n",
              "      <td>320.549988</td>\n",
              "      <td>321.079987</td>\n",
              "      <td>313.140411</td>\n",
              "      <td>49729100</td>\n",
              "      <td>-0.005513</td>\n",
              "    </tr>\n",
              "  </tbody>\n",
              "</table>\n",
              "</div>"
            ],
            "text/plain": [
              "           Date        Open        High  ...   Adj Close    Volume  Daily_return\n",
              "497  2019-12-23  321.589996  321.649994  ...  313.276947  52990000      0.001528\n",
              "498  2019-12-24  321.470001  321.519989  ...  313.286652  20270000      0.000031\n",
              "499  2019-12-26  321.649994  322.950012  ...  314.954376  30911200      0.005323\n",
              "500  2019-12-27  323.739990  323.799988  ...  314.876373  42528800     -0.000248\n",
              "501  2019-12-30  322.950012  323.100006  ...  313.140411  49729100     -0.005513\n",
              "\n",
              "[5 rows x 8 columns]"
            ]
          },
          "metadata": {},
          "execution_count": 17
        }
      ]
    },
    {
      "cell_type": "code",
      "metadata": {
        "colab": {
          "base_uri": "https://localhost:8080/"
        },
        "id": "z1Egf-aKy2NL",
        "outputId": "6abec96b-34d2-4132-f675-b72b8de3a612"
      },
      "source": [
        "pf = pf.drop((percent[percent > 0.6]).index,axis= 1)\n",
        "\n",
        "# checking null values\n",
        "print(pf.isnull().sum())"
      ],
      "execution_count": null,
      "outputs": [
        {
          "output_type": "stream",
          "name": "stdout",
          "text": [
            "Date            0\n",
            "Open            0\n",
            "High            0\n",
            "Low             0\n",
            "Close           0\n",
            "Adj Close       0\n",
            "Volume          0\n",
            "Daily_return    1\n",
            "dtype: int64\n"
          ]
        }
      ]
    },
    {
      "cell_type": "code",
      "metadata": {
        "colab": {
          "base_uri": "https://localhost:8080/"
        },
        "id": "a9Y8r11CzWEq",
        "outputId": "518ef4bc-ede9-470b-aa42-a279dbcee839"
      },
      "source": [
        "print(df.dtypes)"
      ],
      "execution_count": null,
      "outputs": [
        {
          "output_type": "stream",
          "name": "stdout",
          "text": [
            "Date             object\n",
            "Open            float64\n",
            "High            float64\n",
            "Low             float64\n",
            "Close           float64\n",
            "Adj Close       float64\n",
            "Volume            int64\n",
            "Daily_return    float64\n",
            "dtype: object\n"
          ]
        }
      ]
    },
    {
      "cell_type": "code",
      "metadata": {
        "colab": {
          "base_uri": "https://localhost:8080/"
        },
        "id": "fLA4zCHfzZsK",
        "outputId": "e4a51069-06c2-4d48-8125-5e9888388b39"
      },
      "source": [
        "print(pf.dtypes)"
      ],
      "execution_count": null,
      "outputs": [
        {
          "output_type": "stream",
          "name": "stdout",
          "text": [
            "Date             object\n",
            "Open            float64\n",
            "High            float64\n",
            "Low             float64\n",
            "Close           float64\n",
            "Adj Close       float64\n",
            "Volume            int64\n",
            "Daily_return    float64\n",
            "dtype: object\n"
          ]
        }
      ]
    },
    {
      "cell_type": "code",
      "metadata": {
        "colab": {
          "base_uri": "https://localhost:8080/",
          "height": 542
        },
        "id": "7GBevQu-y8ir",
        "outputId": "bf331de5-ad1c-4d68-a6e5-14aac4bb3982"
      },
      "source": [
        "# Add histogram data\n",
        "from plotly.figure_factory import create_distplot\n",
        "x1 = df[\"Daily_return\"].fillna(0)\n",
        "x2 = pf[\"Daily_return\"].fillna(0)\n",
        "# Group data together\n",
        "hist_data = [x1, x2]\n",
        "group_labels = [\"COVID\", \"PRE_COVID\"]\n",
        "# Create distplot with custom bin_size (set bin size = 0.5% return)\n",
        "fig = create_distplot(hist_data, group_labels, bin_size=.005)\n",
        "fig.show()"
      ],
      "execution_count": null,
      "outputs": [
        {
          "output_type": "display_data",
          "data": {
            "text/html": [
              "<html>\n",
              "<head><meta charset=\"utf-8\" /></head>\n",
              "<body>\n",
              "    <div>\n",
              "            <script src=\"https://cdnjs.cloudflare.com/ajax/libs/mathjax/2.7.5/MathJax.js?config=TeX-AMS-MML_SVG\"></script><script type=\"text/javascript\">if (window.MathJax) {MathJax.Hub.Config({SVG: {font: \"STIX-Web\"}});}</script>\n",
              "                <script type=\"text/javascript\">window.PlotlyConfig = {MathJaxConfig: 'local'};</script>\n",
              "        <script src=\"https://cdn.plot.ly/plotly-latest.min.js\"></script>    \n",
              "            <div id=\"2844b49f-9685-466d-bcb5-f391f3f8f6b0\" class=\"plotly-graph-div\" style=\"height:525px; width:100%;\"></div>\n",
              "            <script type=\"text/javascript\">\n",
              "                \n",
              "                    window.PLOTLYENV=window.PLOTLYENV || {};\n",
              "                    \n",
              "                if (document.getElementById(\"2844b49f-9685-466d-bcb5-f391f3f8f6b0\")) {\n",
              "                    Plotly.newPlot(\n",
              "                        '2844b49f-9685-466d-bcb5-f391f3f8f6b0',\n",
              "                        [{\"autobinx\": false, \"histnorm\": \"probability density\", \"legendgroup\": \"COVID\", \"marker\": {\"color\": \"rgb(31, 119, 180)\"}, \"name\": \"COVID\", \"opacity\": 0.7, \"type\": \"histogram\", \"x\": [0.0, -0.007572232086253461, 0.0038150522153153066, -0.002811778389022801, 0.005329535343398861, 0.00678065008054296, -0.002877707078727143, 0.006877348137595218, -0.0015246226001053298, 0.0022598563838194252, 0.008318385640522896, 0.003112531607449398, -0.0019581984530852026, 0.00012076064427746225, 0.001146873316193231, -0.008893078473130589, -0.01602941015397852, 0.010479180834621404, -0.0008260270660148672, 0.003245355508624037, -0.018157904440629147, 0.007428539204569429, 0.015241278156875149, 0.011548006512781761, 0.0033648562472896604, -0.005329657288980605, 0.007465324835689735, 0.0017330495163478954, 0.006442769598437925, -0.0010669639799936181, 0.001602112393058297, -0.0025769993617832387, 0.004781234067075868, -0.004108246191502518, -0.010298266438405812, -0.03316540012948488, -0.030302148148601438, -0.0036782153272646445, -0.044911685393258405, -0.0042015393028288495, 0.04330650633543143, -0.028632456936587558, 0.04203302498111605, -0.03324168797105831, -0.0165311120438405, -0.0780944688457279, 0.051744890897444495, -0.048748447979579, -0.09567715933502474, 0.08548630008671032, -0.1094237347171908, 0.05399206452385896, -0.05063292265862818, 0.002124979166666874, -0.04868817198220832, -0.02556820770671031, 0.09060326203996305, 0.014970179271318607, 0.05838980270160299, -0.02978565713082748, 0.03247571645865133, -0.01490538539817432, -0.045004872938894325, 0.023075393615487938, -0.014454195175680473, 0.06716621485824392, 0.001019482048222553, 0.0335684148612303, 0.015217359468734593, -0.009130150576700857, 0.02949287122552602, -0.02124810179628267, 0.004824294181152933, 0.02701543833001563, -0.017617983309134333, -0.030363248415969935, 0.0221945385300657, -7.172697803525807e-05, 0.013938706396743328, 0.014418443600316522, -0.0045984220699566425, 0.026178489175223474, -0.009310664997087437, -0.026473429182016894, 0.0027582233288869773, 0.009239323395721533, -0.006778720383111003, 0.012066817941952523, 0.01654619409004221, 0.00020516345092902455, -0.019931579487179496, -0.01768586447861209, 0.011967311534787362, 0.004596968085774256, 0.030459693413649847, -0.010271183050847621, 0.01698801925886917, -0.00690394385318982, 0.0018990673850538542, 0.012320555697802993, 0.014879002920379358, -0.0018449510817547532, 0.0044559065106910545, 0.004041735580007533, 0.008280147600594923, 0.013308251665175463, -0.002626715415423919, 0.025629532966479296, 0.012087480579789478, -0.007456692173637758, -0.005580002337292278, -0.05764894984326019, 0.011975670069641842, 0.009335646704647482, 0.019247690053646904, -0.004153844061172585, 0.000385018925944669, -0.010071152768205693, 0.006415175945348572, 0.0046036733726686485, -0.025508707918937668, 0.010720543401237181, -0.023751481560081777, 0.014697560994403336, 0.012809545146442503, 0.0070048128974971036, 0.00550696270957296, 0.015437263652404054, -0.010313796321607005, 0.007648651946104312, -0.005692921879468904, 0.0102105444015117, -0.008658962922749036, 0.012959017443260334, 0.009187234668775801, -0.003293450303679668, 0.0028990678447220475, 0.008081580231003471, 0.0021275375712483946, 0.005692055453922595, -0.011931696074696907, -0.006440382889408847, 0.0072924331947701315, -0.00634239215907928, 0.012298726033305174, -0.0035679257438473444, 0.007902204195332274, 0.006952162429479936, 0.0038626143290139137, 0.006210952591716223, 0.0066845385573095495, 0.000717913466733, 0.0029889110771366134, -0.008254668004342824, 0.01394235026234436, -0.0018077732230453725, 2.9715287789944256e-05, 0.0031766061415106073, 0.002160371079158674, -0.004163725305764587, 0.0031135663071222286, 0.003547392702930585, 0.01013315037273288, 0.0034993058279162437, 0.0100256074919447, 0.002186552305130318, 0.006459392196974445, -0.0036225370731159945, 0.009418590990344367, 0.01446399861944414, -0.03441430412923785, -0.008164706209008443, -0.027322929061912804, 0.019747361056769774, -0.017363647675703087, 0.0005090987821243509, 0.013171265719758463, 0.005052360826895974, -0.003968621419901619, -0.008795262789779712, -0.015453793657143833, -0.011129572257001286, 0.01018438079889794, -0.02319095754856637, 0.002665462930876661, 0.01616695826893344, 0.016609347541438835, -0.005446024683886219, 0.007581972012846716, 0.00642000030965395, -0.009494460344617428, 0.01773308791915995, -0.014215966734872687, 0.017406673399954276, 0.008862510011077962, 0.00893015012196785, 0.016087608197994374, -0.0065260847421690915, -0.006283414641941265, -0.0012358606864917299, -0.0006042906474820198, -0.015203429016583003, 0.004005716090005551, -0.0018929290888676231, 0.00548529145292731, 0.0033951831082319472, -0.018479912136271426, -0.0034474025407024156, -0.0341789278156851, 0.010163494028488262, -0.01042487994825847, 0.01120843663601434, 0.01765592606943933, 0.022349224838107196, 0.019502767725665393, -0.00022837483520932178, 0.012565666980058676, -0.001466575482099386, 0.007428550257437161, -0.00970090524543199, 0.013844497960421531, 0.012482549358013628, -0.005378304775220832, -0.012034817980627999, 0.0042101717868254784, -0.006847817113443511, 0.005994439191533862, 0.01611371942321771, -0.0015417570575909645, 0.002785002450945706, -0.004427131582058652, 0.010937388890998045, 0.0021037648848187818, -0.00027265464583581256, 0.008617644284722115, -0.0020549141210505217, 0.0029261616725044792, -0.008968870744265223, -0.00032709553778775824, -0.0011725874269941094, -0.004477160943832659, 0.013519420682066352, 0.0015693525427566968, 0.005591962955681096, -0.00822049506287581, -0.0035755133675405837, -0.001685410279131161, 0.000898641240024034, 0.003890396312994149, 0.008590821138211302, -0.001907789384417602, 0.0014267996899832713, 0.005080822201694257, -0.013613982914116973, 0.0068873286640473985, 0.005978512583741269, 0.014857497465640357, 0.005697715552133165, -0.006740827604762467, 0.00021122025819941825, 0.0026929799868595783, -0.003501982591648467, -0.007292657257395474, 0.00785196142075173, 0.013838692943436426, 0.0009116543445391034, -0.0035394155616129686, 0.003943820466675962, -0.0015609302442468609, -0.024440461658812973, 0.00860020022328234, -0.02001959033949119, 0.016645509994005048, 0.014140224980617067, 0.0007863137450814239, 0.011365708869466307, 0.003935857976975932, 0.007221941825068967, -0.0006658216008342821, -0.0004356515054452226, 0.0016150636305265476, 0.0049397866562364, -0.0008660019025316101, 0.0002294850949626781, -0.0042560053420320765, -0.0017659756302056406, -0.007691716041565266, 0.0012143787334686351, 0.011019326451612965, -0.024095776259166146, -0.0051526222556014245, 0.024240199715014787, -0.007803219111458204, -0.013245707768377524, -0.012374812120831136, 0.018396582902152847, -0.004978765933597917, 0.014277512275286952, 0.006224588472971471, 0.010139155325758598, 0.0013467816973211644, 0.005963574105281255, -0.001261320337415106, 0.0034098809991172097, -0.01454966232317223, -0.005108817676006461, 0.007984966910150382, -0.007870796585453421, -0.005083468549422321, 0.005625575613855682, 0.016114957163511745, -0.0005051063044694271, -0.0026529587211405747, 0.004053342678320027, 0.010799076881356395, 0.014353112042376992, -0.0005905847250190499, 0.0011572958873891093, 0.004746779357552189, 0.007270148536109966, 0.0003645896708204255, 0.0029636817499387735, -0.0034151360054910374, 0.01074245441995525, 0.0033424267600743462, -0.004913049299883787, -0.007321543474130943, 0.009462100291124376, -0.00913312167680469, 0.0108424118157191, 0.0020876206288722443, -0.00021550251007529386, -0.00028739941358835175, 0.006372793575076363, -0.006570513767416797, 0.0021567793574919225, -0.006169337460468549, 0.0003127977517058955, 0.007985585087191716, 0.007277991622053781, -0.009902380956865131, -0.00892475231408929, -0.02124523114170851, 0.01201251807293846, 0.015355337855501805, -0.002544524540493587, -0.008615679377099728, -0.0026217822856640094, 0.0107579568742866, -0.0008187174937843711, 0.010194271411797962, -0.0022187250307907913, 0.0019845471974118123, 0.0005249767254282833, 0.001788738066496487, -0.0008808589469390116, 0.0015726022340318835, -0.0037113649947606575, 0.009145872676181499, -0.0009701940231396922, 0.00021316705647644874, -0.0014919129522873442, 0.0046483837967274955, 0.0016524940978435154, 0.0022389573766299353, -0.0018341696412975672, -0.005583363029078248, -0.00033162920796570017, -0.016707320386029068, 0.014315944793918511, 0.005346196075162624, -0.0012053107184412104, 0.005915759499539597, 0.0035520559366917226, 0.0020159303116171756, 0.0005380751853041321, 0.0008416787231702028, 0.0055365953629704645, 0.007643537981796733, -0.001821470068658404, 0.0035340540612534, -0.00814799538123645, 0.010674779219409292, 0.0035819205533642595, -0.003408966423347204, 0.0014922151701575181, -0.0034155282279372257, -0.007843597469810226, -0.014767921034616993, 0.014330416230956766], \"xaxis\": \"x\", \"xbins\": {\"end\": 0.09060326203996305, \"size\": 0.005, \"start\": -0.1094237347171908}, \"yaxis\": \"y\"}, {\"autobinx\": false, \"histnorm\": \"probability density\", \"legendgroup\": \"PRE_COVID\", \"marker\": {\"color\": \"rgb(255, 127, 14)\"}, \"name\": \"PRE_COVID\", \"opacity\": 0.7, \"type\": \"histogram\", \"x\": [0.0, 0.00632515559614788, 0.004214826027970631, 0.006664070174003278, 0.0018286883776865714, 0.0022634198692157437, -0.0015298826627487827, 0.007296074844886924, 0.006518970131083712, -0.0034182928740724705, 0.009531660434228817, -0.001680805497700666, 0.004549648677206086, 0.008130943858907225, 0.002122491052937825, -0.0003883511472512202, 0.00042374109388432224, 0.011577829646784332, -0.006629890732739785, -0.010257071349583757, 0.0004968199710100318, -0.001135179165700828, -0.0217699242950814, -0.041822539474058895, 0.01970223975264518, -0.005424857774591119, -0.037508900931685574, 0.01502152282301128, 0.014684497131931096, 0.002487389801573814, 0.013496225563909725, 0.012760128532365966, 0.0002929568190048748, -0.006261180820613332, -0.004974230028907067, 0.0012960785615736548, 0.01593933837143502, 0.011612256941903487, -0.01248650980539412, -0.010130084432863118, -0.014540703431784263, 0.005154930661714019, 0.01155795729988629, 0.0025350049411438924, -0.0003664834292272934, 0.004839090126985246, 0.01740236736806211, -0.0012550866219939172, -0.006462688751578405, -0.0051315878681280624, -0.0010896767638071125, -0.0029090472727272276, -0.0135303495172715, 0.0017006987948058327, -0.0019192433178412127, -0.024997153329808453, -0.021314615704896234, 0.027359028592553125, -0.017011728170102658, -0.0029547927178481537, 0.012777612924254056, -0.021584621430772333, 0.012816980569321013, 0.010699118448020517, 0.007892005675307345, -0.022285851775757592, 0.004928380544708455, 0.015900360153256576, -0.005242255445798594, 0.008227111456357683, -0.002933099013017415, 0.008221735053103751, 0.010698444391126216, 0.0007402679541044233, -0.005547542130947436, -0.008479414901293447, -0.00014994937267642783, -0.013467366566862093, 0.002471647930686327, 0.010165735876688231, 0.0009387555926458901, -0.00769053127018704, 0.0017768741530801435, -0.006717484059580503, -0.002203711905605865, 0.012946439969279577, 0.003383294629036193, 0.0, 0.00966576829890986, 0.009350608534322902, 0.0030513088506889385, 0.0004764705777575706, -0.006886969463855697, 0.004205031260677838, -0.0008447693522173338, -0.0024999925554211044, 0.007518549728158241, -0.0027801514939488348, 0.0027511831600739445, -0.0020485697641519085, -0.0023826760578889994, -0.011501029097946591, 0.013344718410496892, -0.006125905476279558, 0.009817686500201761, 0.004751418024457221, 0.0007275809544033951, 0.008360552344008232, -0.00010814347746512798, 0.002956365197324118, 0.001330011852834323, 0.0012924145698764988, -0.003190929149999522, 0.002517757085630068, -0.005740343475249321, -0.0020568216711142062, -0.0038327958044026555, 0.0017059927404716735, -0.0062688371697328105, 0.0018232206032386955, -0.013612834447580657, 0.002214044280442806, -0.008284241348654464, 0.005717501264878466, 0.0014396396264366729, 0.002137960786412263, -0.0035311963987638695, 0.008157958837016421, 0.008458233410982618, 0.009004360187870653, 0.0035984167743450257, -0.007314482050508775, 0.00906599052224899, 0.0007874897230819577, -0.0008941664708204122, 0.0040452674739781536, 0.0021036010906565483, -0.003771429614825572, -0.0011428821428570712, 0.001859335715872934, 0.005032023339099467, 0.008522513859016811, -0.0023591210746410907, -0.00677625124269432, -0.00522351265757337, 0.004929362174844298, -0.0016706430942963202, 0.0054476610471940745, 0.004284822181124248, 0.003667168469664972, 0.003302318544355032, -0.0004201835053658787, -0.0013661599253677048, -0.006700119104427471, -0.0037434594753007477, 0.00638067338431747, -0.007467400650948752, 0.008091415317238226, 0.003520383042458608, 0.0021399530073664685, 0.002345303915395558, -0.0005936404357567149, -0.001327895945547497, 0.006018408432185707, 0.007895339017935488, 0.0004831734435886137, 0.005380787562257794, -0.004048383955907009, 3.4481572214195566e-05, -0.001722296866951134, -0.0026914150836161443, -0.003010050870186687, -0.001943357829770176, 0.001738525693911086, 0.0032974036106059312, 0.0002421968618107062, 0.005914471602007421, 0.0001719836407376718, -0.0052943102775318, 0.005426169978933748, 0.001065611342812245, 0.008103790920596987, -0.005415890286826763, -0.003322035114970756, -0.0009277335241738571, -0.0029922441960448243, 0.002794249296359741, 0.00010319928375102094, 0.0034741675719793808, -0.0005827751468462372, 0.0005487824156178434, -0.007815710243330165, -0.005596997611961085, 0.0, -0.0014592904933116158, -0.03166320873340034, -0.022026501129421505, 0.013888374249370505, -0.005617024579074981, 0.02186588969094516, 0.00017838088826782617, -0.01444114040544242, -0.0005426700551953711, -0.004488651583710368, -0.005090814694345247, -0.03029852145198586, 0.017940524176150996, -0.017587382363136728, -0.005540278415647082, 0.014818480339108708, 0.010680868347796801, 0.010641853995457806, -0.005922982489745099, 0.005516936692213648, 0.006327882896527859, 0.021408894689751712, -0.001814917554004647, -0.009768235294117522, -0.018685205980515485, -0.001871111959871552, -0.006836675783552737, 0.010436627959883316, 0.0026006227697854545, -0.01691449535652112, -0.018506172013983524, 0.003407519373911816, -0.006678699997983983, 0.01614434947768273, 0.003364463551401853, 0.023025309754664214, -0.002185068207465668, 0.0060952731329002585, 0.013241407870300925, -0.03240239308567383, -0.001517128584643923, -0.023235951278327227, 0.0018970292018090085, 0.00022720490176686425, 0.0050353461357031115, -0.0003390190727460274, -0.01846476275511122, -0.019618382080015317, -0.0010964873077360382, -0.014975721224904093, -0.01627794747030875, -0.02617632015354865, -0.026422937595632967, 0.05052486644234655, 0.007677366373147754, -0.001289986660902409, 0.0087588213925327, 0.0010403129084533003, -0.023862763478453064, 0.033495728125506385, 0.007884646808053564, 0.009395329636855854, 0.004673490093890731, 0.0035275574542483756, 0.00038630252653160113, -0.00610092259205286, 0.011460808347959928, 0.0024198386229343782, 0.007586711305640925, 0.013310009582408355, -0.013510493588510308, 0.0020924409624387685, 0.0005314300819037054, 0.008461434648215693, -0.0076002295417271215, -0.0013269866042240341, 0.015830769282399793, 0.008782443060661338, 0.00048162487819558564, 0.007035447730396438, 0.004191848204613269, -0.0013182570197382004, -0.009532797152335348, 0.0012215369129966458, 0.0005545679722167574, 0.012859400873169058, 0.0032469317056489366, -0.0022182080154989903, 0.010897259076877885, 0.0017305801227707196, 0.002015468734595016, -0.0035558743787096336, 0.006199992500180773, 0.0013612308504031834, -0.0007154479388593593, -0.000429596867366433, -0.0018625321549055052, 0.006243792319888364, -0.0036374686281752666, -0.0013600751902663744, -0.006056920889635609, -0.008365402620525098, -0.0019999962910441926, 0.014501242915219592, 0.003770966788026353, 0.00661922096029266, -0.0006397668392658096, 0.0005334827068788073, 0.0036258540658054006, 0.0002479616166310983, -0.003009936324573692, 0.011294701245023742, -0.019246341405156575, -0.0007519820948970191, 0.007454078027929079, -0.005229087315543057, 0.003790441704783376, 0.006305511227778116, 0.01185916124875841, 0.0004898506327817298, 0.001573633592427015, 0.0026533760404516826, 0.004840218796160922, 0.0007623869240160897, -0.005124869122463238, 0.0034109881550310472, -0.0002775607808177538, 0.006765945181962829, -0.0006548214687784881, 0.0006552505409000986, -0.0024468982292955577, 0.0019691724870267713, 0.0008620095492797297, 0.008991683945666074, -0.0022193184543273237, -0.0006160318694988787, 0.004656791836608498, 0.0015677413644015203, 0.0005104093733692139, -0.007516465147544782, -0.002158956184907579, 0.009787780989471973, -0.004115199143336579, -0.016699726395402847, -0.0013892057434946592, -0.0030257538449057764, 0.0050233795433840545, -0.025130235505791743, 0.00904368416882173, 0.005857459545323795, 0.009261257344146845, -0.006465123122761707, -0.006612034797257582, 0.009015664348695385, -0.0030714633670217983, -0.012218569264107915, 0.0022683205712596965, -0.00930053401690567, -0.006710708692715506, 0.0027311964280849477, -0.013475289443698912, -0.0025428925345001296, 0.02170663891923219, 0.008662146681859717, 0.006502675496621757, 0.010007043960970963, 0.004588934564691671, -0.00024226390198878178, -0.0017652440657370816, 0.004126259364423568, -0.0011049693154382423, 0.00038022884670430024, 0.010471019982565943, 0.0022571956687522654, 0.009554313175147211, -0.006286706869129355, -0.0012244387755101505, -0.0098079446018281, -0.000997417079467211, 0.003545973754446541, 0.005145797598627766, 0.009078511945392442, 0.0026043055860880404, 0.007995125513496681, -0.0011378748783616999, -0.0054948202420873615, 0.0012465298540338399, 0.00477803085717543, 0.0023442384219001244, 0.004476950348982323, 0.00033263263594141, -0.003225273482959201, -0.00680502037095565, 0.0036609022523310664, -0.005554911060515644, 0.0024564423328945484, 0.00715006728063261, 0.004699540061658736, -0.004777076666818703, 0.006700033333333355, -0.0018211946021260417, -0.0024546872622975835, -0.010940436249865293, -0.008707921396481466, -0.007529511023327995, -0.030073091895172932, 0.01402290501669956, 0.0005907331726504594, 0.019620078412265096, -0.006811525216462222, -0.012173335370916694, 0.015551709276002468, -0.02956757598636439, 0.0026417753288152657, 0.014755004702371455, 0.012047709633767445, -0.007662542673051331, 0.008135461520706988, -0.0003078372245032268, -0.025687438039785015, 0.011058430520096252, -0.003923628472222163, 0.007041586904200203, 0.012772930210135591, -0.0004442374932500659, -0.005847228346155919, 0.011350413130302606, 0.01285538662869512, 0.0007722147424433778, 0.0005033518068788823, -0.0002347652487687535, 0.00711097495872659, 0.003463810158201408, -0.000663855401856428, -0.0030887509128665336, 0.002532012892696889, 0.0005981423375787109, -6.648621587868053e-05, -0.009299814404469142, -0.00023470564648897518, -0.007846806178938515, 0.005914759960705007, -0.00208317656883239, -0.005387225589225664, 0.004637762450326877, -0.011894730366418638, -0.017664684820102416, 0.008192789753473484, 0.013532101177889722, -0.004314655933793321, -0.01552473113764663, 0.009496378225821722, 0.006763487741265228, 0.010366965978958254, -0.0011137673859652475, 0.009900296946093512, -0.0016060324945457172, 0.002949078477528566, -0.0043771652110974335, 0.006779169021112308, -0.0032667089991901266, 0.002909584866406245, 0.0016339535541891603, 0.0040949862518724345, 0.005636544980705205, -0.0002967260255875015, 0.0030672604056771746, -0.0026633391203061407, 0.009263930769891182, 0.004017704121429544, -0.0011061457056014135, 0.00022801354990709122, 0.0035167273816334443, 0.0024661205051035306, -0.0019097429798035082, 0.0021079746630521257, 0.00032364401294504574, 0.001455781272291512, 0.007236378894642348, 0.0007376118328410453, -0.0002884302389998261, -0.0037187959671451942, -0.001608906965595014, 0.002223876057829033, 0.007750206038564134, 0.002265666819824208, 0.004457539664887822, -0.0037086755395098203, -0.008494744096559148, -0.006706542482999289, 0.006170257063618401, 0.0017979773203038452, 0.009134049421429813, -0.003144123021312395, -0.0011150949229784546, 0.002838688491814567, 0.008619018790003041, 0.0005991296850009764, 0.00687001434485679, 0.00021911424100151677, 6.254967475727291e-05, 0.004098995639400416, -0.0005297070837589901, 0.001527733555310995, 3.1162443088428304e-05, 0.005323260409812791, -0.0002477766752475574, -0.005513219608183961], \"xaxis\": \"x\", \"xbins\": {\"end\": 0.05052486644234655, \"size\": 0.005, \"start\": -0.041822539474058895}, \"yaxis\": \"y\"}, {\"legendgroup\": \"COVID\", \"marker\": {\"color\": \"rgb(31, 119, 180)\"}, \"mode\": \"lines\", \"name\": \"COVID\", \"showlegend\": false, \"type\": \"scatter\", \"x\": [-0.1094237347171908, -0.10902368072367649, -0.10862362673016218, -0.10822357273664787, -0.10782351874313358, -0.10742346474961927, -0.10702341075610496, -0.10662335676259065, -0.10622330276907634, -0.10582324877556203, -0.10542319478204773, -0.10502314078853342, -0.10462308679501911, -0.1042230328015048, -0.10382297880799049, -0.10342292481447618, -0.10302287082096188, -0.10262281682744757, -0.10222276283393326, -0.10182270884041895, -0.10142265484690464, -0.10102260085339033, -0.10062254685987604, -0.10022249286636173, -0.09982243887284742, -0.09942238487933311, -0.0990223308858188, -0.09862227689230449, -0.09822222289879018, -0.09782216890527588, -0.09742211491176157, -0.09702206091824726, -0.09662200692473295, -0.09622195293121864, -0.09582189893770433, -0.09542184494419004, -0.09502179095067573, -0.09462173695716142, -0.09422168296364711, -0.0938216289701328, -0.09342157497661849, -0.09302152098310418, -0.09262146698958988, -0.09222141299607557, -0.09182135900256126, -0.09142130500904695, -0.09102125101553264, -0.09062119702201835, -0.09022114302850404, -0.08982108903498973, -0.08942103504147542, -0.0890209810479611, -0.0886209270544468, -0.08822087306093249, -0.08782081906741819, -0.08742076507390388, -0.08702071108038957, -0.08662065708687526, -0.08622060309336095, -0.08582054909984664, -0.08542049510633234, -0.08502044111281803, -0.08462038711930372, -0.08422033312578941, -0.0838202791322751, -0.0834202251387608, -0.0830201711452465, -0.08262011715173219, -0.08222006315821788, -0.08182000916470357, -0.08141995517118926, -0.08101990117767495, -0.08061984718416065, -0.08021979319064634, -0.07981973919713203, -0.07941968520361772, -0.07901963121010341, -0.0786195772165891, -0.0782195232230748, -0.07781946922956048, -0.07741941523604617, -0.07701936124253188, -0.07661930724901757, -0.07621925325550326, -0.07581919926198896, -0.07541914526847465, -0.07501909127496034, -0.07461903728144603, -0.07421898328793172, -0.07381892929441741, -0.0734188753009031, -0.07301882130738879, -0.07261876731387448, -0.07221871332036019, -0.07181865932684588, -0.07141860533333157, -0.07101855133981727, -0.07061849734630296, -0.07021844335278865, -0.06981838935927434, -0.06941833536576003, -0.06901828137224572, -0.06861822737873141, -0.0682181733852171, -0.06781811939170279, -0.0674180653981885, -0.06701801140467419, -0.06661795741115988, -0.06621790341764558, -0.06581784942413127, -0.06541779543061696, -0.06501774143710265, -0.06461768744358834, -0.06421763345007403, -0.06381757945655972, -0.06341752546304541, -0.0630174714695311, -0.0626174174760168, -0.06221736348250249, -0.061817309488988184, -0.06141725549547388, -0.061017201501959564, -0.06061714750844526, -0.06021709351493096, -0.05981703952141664, -0.05941698552790234, -0.059016931534388035, -0.05861687754087372, -0.058216823547359416, -0.05781676955384511, -0.057416715560330796, -0.05701666156681649, -0.05661660757330219, -0.05621655357978787, -0.05581649958627357, -0.05541644559275927, -0.05501639159924495, -0.05461633760573065, -0.054216283612216344, -0.05381622961870203, -0.053416175625187724, -0.05301612163167342, -0.052616067638159104, -0.0522160136446448, -0.05181595965113049, -0.05141590565761618, -0.05101585166410188, -0.05061579767058757, -0.05021574367707326, -0.049815689683558956, -0.049415635690044646, -0.049015581696530336, -0.04861552770301603, -0.04821547370950172, -0.04781541971598741, -0.04741536572247311, -0.0470153117289588, -0.04661525773544449, -0.04621520374193018, -0.04581514974841587, -0.04541509575490156, -0.04501504176138725, -0.044614987767872955, -0.044214933774358645, -0.043814879780844335, -0.04341482578733004, -0.043014771793815715, -0.042614717800301405, -0.04221466380678711, -0.0418146098132728, -0.04141455581975849, -0.04101450182624419, -0.04061444783272987, -0.04021439383921556, -0.03981433984570126, -0.03941428585218695, -0.03901423185867264, -0.03861417786515835, -0.03821412387164402, -0.037814069878129714, -0.03741401588461542, -0.03701396189110111, -0.0366139078975868, -0.0362138539040725, -0.03581379991055818, -0.03541374591704387, -0.03501369192352957, -0.03461363793001526, -0.03421358393650095, -0.033813529942986656, -0.03341347594947233, -0.03301342195595802, -0.032613367962443726, -0.032213313968929416, -0.031813259975415106, -0.031413205981900796, -0.031013151988386486, -0.030613097994872177, -0.03021304400135788, -0.02981299000784357, -0.02941293601432926, -0.02901288202081495, -0.02861282802730064, -0.02821277403378633, -0.027812720040272035, -0.027412666046757725, -0.027012612053243415, -0.026612558059729105, -0.026212504066214795, -0.025812450072700485, -0.02541239607918619, -0.02501234208567188, -0.02461228809215757, -0.02421223409864326, -0.02381218010512895, -0.02341212611161464, -0.023012072118100343, -0.022612018124586034, -0.022211964131071724, -0.021811910137557414, -0.021411856144043104, -0.021011802150528794, -0.020611748157014498, -0.020211694163500188, -0.019811640169985878, -0.019411586176471568, -0.019011532182957258, -0.018611478189442948, -0.018211424195928652, -0.017811370202414342, -0.01741131620890002, -0.017011262215385722, -0.016611208221871412, -0.016211154228357103, -0.015811100234842806, -0.015411046241328497, -0.015010992247814173, -0.014610938254299877, -0.014210884260785567, -0.013810830267271257, -0.01341077627375696, -0.013010722280242651, -0.012610668286728327, -0.012210614293214031, -0.011810560299699721, -0.011410506306185411, -0.011010452312671115, -0.010610398319156805, -0.010210344325642481, -0.009810290332128185, -0.009410236338613875, -0.009010182345099566, -0.00861012835158527, -0.00821007435807096, -0.007810020364556636, -0.00740996637104234, -0.00700991237752803, -0.00660985838401372, -0.006209804390499424, -0.0058097503969851, -0.00540969640347079, -0.005009642409956494, -0.004609588416442184, -0.004209534422927874, -0.003809480429413578, -0.0034094264358992543, -0.0030093724423849444, -0.0026093184488706483, -0.0022092644553563384, -0.0018092104618420285, -0.0014091564683277324, -0.0010091024748134086, -0.0006090484812990987, -0.00020899448778480267, 0.00019105950572950725, 0.0005911134992438172, 0.0009911674927581132, 0.001391221486272437, 0.001791275479786747, 0.002191329473301043, 0.002591383466815353, 0.002991437460329663, 0.003391491453843959, 0.0037915454473582827, 0.004191599440872593, 0.004591653434386889, 0.004991707427901199, 0.0053917614214155085, 0.0057918154149298184, 0.006191869408444128, 0.006591923401958438, 0.006991977395472734, 0.007392031388987044, 0.007792085382501354, 0.008192139376015664, 0.008592193369529974, 0.008992247363044284, 0.00939230135655858, 0.00979235535007289, 0.0101924093435872, 0.01059246333710151, 0.01099251733061582, 0.01139257132413013, 0.011792625317644426, 0.012192679311158736, 0.012592733304673046, 0.012992787298187355, 0.013392841291701665, 0.013792895285215975, 0.014192949278730271, 0.014593003272244581, 0.014993057265758891, 0.015393111259273201, 0.01579316525278751, 0.01619321924630182, 0.01659327323981613, 0.01699332723333044, 0.017393381226844723, 0.01779343522035906, 0.01819348921387337, 0.01859354320738768, 0.018993597200901963, 0.0193936511944163, 0.019793705187930583, 0.020193759181444892, 0.020593813174959202, 0.020993867168473512, 0.021393921161987822, 0.021793975155502132, 0.022194029149016442, 0.022594083142530724, 0.022994137136045062, 0.023394191129559372, 0.023794245123073654, 0.02419429911658799, 0.024594353110102274, 0.024994407103616584, 0.025394461097130894, 0.025794515090645204, 0.026194569084159514, 0.026594623077673823, 0.026994677071188133, 0.027394731064702416, 0.027794785058216753, 0.028194839051731063, 0.028594893045245345, 0.028994947038759683, 0.029395001032273965, 0.029795055025788275, 0.030195109019302585, 0.030595163012816895, 0.030995217006331205, 0.031395270999845515, 0.031795324993359825, 0.03219537898687411, 0.032595432980388445, 0.032995486973902755, 0.03339554096741704, 0.033795594960931374, 0.03419564895444566, 0.034595702947959966, 0.034995756941474304, 0.035395810934988586, 0.035795864928502896, 0.036195918922017206, 0.036595972915531516, 0.0369960269090458, 0.037396080902560136, 0.037796134896074446, 0.03819618888958873, 0.038596242883103066, 0.03899629687661735, 0.03939635087013166, 0.039796404863645995, 0.04019645885716028, 0.04059651285067459, 0.0409965668441889, 0.04139662083770321, 0.04179667483121749, 0.04219672882473183, 0.04259678281824614, 0.04299683681176042, 0.04339689080527476, 0.04379694479878904, 0.04419699879230335, 0.04459705278581769, 0.04499710677933197, 0.04539716077284628, 0.04579721476636059, 0.0461972687598749, 0.04659732275338921, 0.04699737674690352, 0.04739743074041783, 0.04779748473393211, 0.04819753872744645, 0.04859759272096073, 0.04899764671447504, 0.04939770070798938, 0.04979775470150366, 0.05019780869501797, 0.05059786268853228, 0.05099791668204659, 0.0513979706755609, 0.05179802466907521, 0.05219807866258952, 0.0525981326561038, 0.05299818664961814, 0.05339824064313242, 0.05379829463664673, 0.05419834863016107, 0.05459840262367535, 0.05499845661718966, 0.05539851061070397, 0.05579856460421828, 0.05619861859773259, 0.0565986725912469, 0.05699872658476121, 0.05739878057827549, 0.05779883457178983, 0.05819888856530414, 0.05859894255881842, 0.05899899655233276, 0.05939905054584704, 0.05979910453936135, 0.06019915853287566, 0.06059921252638997, 0.06099926651990428, 0.06139932051341859, 0.0617993745069329, 0.062199428500447185, 0.06259948249396152, 0.06299953648747583, 0.06339959048099011, 0.06379964447450445, 0.06419969846801873, 0.06459975246153304, 0.06499980645504735, 0.06539986044856166, 0.06579991444207597, 0.06619996843559028, 0.0666000224291046, 0.06700007642261888, 0.06740013041613321, 0.06780018440964752, 0.0682002384031618, 0.06860029239667614, 0.06900034639019043, 0.06940040038370474, 0.06980045437721905, 0.07020050837073336, 0.07060056236424767, 0.07100061635776198, 0.07140067035127629, 0.07180072434479057, 0.0722007783383049, 0.07260083233181922, 0.0730008863253335, 0.07340094031884783, 0.07380099431236212, 0.07420104830587643, 0.07460110229939076, 0.07500115629290505, 0.07540121028641936, 0.07580126427993367, 0.07620131827344798, 0.07660137226696226, 0.0770014262604766, 0.0774014802539909, 0.07780153424750519, 0.07820158824101953, 0.07860164223453381, 0.07900169622804812, 0.07940175022156246, 0.07980180421507674, 0.08020185820859105, 0.08060191220210536, 0.08100196619561967, 0.08140202018913395, 0.08180207418264829, 0.0822021281761626, 0.08260218216967688, 0.08300223616319122, 0.0834022901567055, 0.08380234415021981, 0.08420239814373415, 0.08460245213724843, 0.08500250613076274, 0.08540256012427705, 0.08580261411779136, 0.08620266811130567, 0.08660272210481998, 0.08700277609833429, 0.08740283009184857, 0.08780288408536291, 0.08820293807887719, 0.0886029920723915, 0.08900304606590584, 0.08940310005942012, 0.08980315405293443, 0.09020320804644874], \"xaxis\": \"x\", \"y\": [0.19762914193966083, 0.19859074205568097, 0.1987560315373639, 0.1981797451444792, 0.19693373907452658, 0.19510523547287786, 0.19279455290921244, 0.1901123863011459, 0.1871767169272689, 0.18410944746231314, 0.181032867839284, 0.1780660648033907, 0.17532139103958747, 0.17290110866173025, 0.17089431673497488, 0.16937426359502153, 0.16839613238459555, 0.16799537291127278, 0.16818663518872734, 0.16896334046779113, 0.17029790485196544, 0.1721426094090199, 0.17443108973088667, 0.17708039784617963, 0.17999357091747037, 0.18306262488147546, 0.1861718776766431, 0.18920149643116405, 0.19203115633657383, 0.19454369616913683, 0.1966286566666433, 0.19818559319400889, 0.19912706314923706, 0.1993812010230807, 0.1988938094291554, 0.1976299121280422, 0.19557473433079753, 0.19273409556069543, 0.18913422021956489, 0.18482098990134663, 0.17985867863415672, 0.1743282269310031, 0.16832512224985052, 0.16195696184213032, 0.15534077883562294, 0.1486002137846757, 0.14186261205400322, 0.13525612268160214, 0.12890686733259876, 0.12293623924912495, 0.11745838241167043, 0.1125778911435806, 0.10838776074936327, 0.10496761101914169, 0.10238219696205933, 0.10068021519781199, 0.09989341011398849, 0.10003598109512092, 0.10110429060252792, 0.10307687226375441, 0.10591473796352265, 0.10956198272254643, 0.11394668542431327, 0.11898210177924272, 0.12456814297818998, 0.1305931290971983, 0.1369358004466427, 0.14346756285420653, 0.15005493464164057, 0.15656215425569184, 0.16285389871454298, 0.1687980548755651, 0.17426847868387438, 0.1791476726591694, 0.18332930947262382, 0.18672052997749922, 0.18924394773837447, 0.19083929900988764, 0.1914646870931679, 0.1910973826871371, 0.189734156705168, 0.18739113834225699, 0.18410320813940265, 0.17992295252683316, 0.17491922196068566, 0.16917534847880297, 0.1627870895796008, 0.15586037321747695, 0.1485089230428077, 0.14085184363960995, 0.13301124249362892, 0.12510995903351332, 0.11726946179360385, 0.10960796317128503, 0.10223878813184283, 0.09526901935172272, 0.08879842750312116, 0.08291868244766648, 0.07771282971838178, 0.0732550073953573, 0.0696103717322924, 0.06683519589989126, 0.06497710502065732, 0.0640754121331055, 0.06416152352256055, 0.06525938752010783, 0.06738596781160745, 0.07055172984612838, 0.07476113638375263, 0.0800131548843595, 0.08630178467873023, 0.09361661515185044, 0.10194342711975098, 0.1112648479852532, 0.12156106710200051, 0.13281061125605456, 0.1449911716920283, 0.1580804642578055, 0.1720570937696465, 0.18690138347571159, 0.2025961214512885, 0.21912716882384672, 0.23648387076462155, 0.25465921092559907, 0.27364965397960517, 0.2934546294191413, 0.31407562277830237, 0.3355148576403409, 0.357773572545234, 0.38084992028608305, 0.40473654189697555, 0.4294178925141193, 0.4548674197509937, 0.48104471576015645, 0.5078927803279606, 0.5353355429029417, 0.56327579539141, 0.5915936841935006, 0.6201458990122611, 0.6487656775731219, 0.6772637200827913, 0.7054300759678592, 0.7330370294387195, 0.759842971269612, 0.7855972036006964, 0.8100455843706706, 0.8329368799842235, 0.854029660705693, 0.8730995445538748, 0.8899465733957459, 0.9044024904281628, 0.9163376818827625, 0.9256675478251786, 0.9323580772397992, 0.93643042077747, 0.9379642799054899, 0.9370999628227574, 0.9340389943022408, 0.9290432073921184, 0.9224322883668288, 0.9145797911595144, 0.9059076824192003, 0.8968795220392405, 0.8879924252671133, 0.8797679901626347, 0.8727424071354987, 0.8674559945704178, 0.8644424252583063, 0.8642179217470685, 0.8672707042177731, 0.8740509716827259, 0.8849616860140853, 0.9003504086211278, 0.920502411856541, 0.9456352521020963, 0.9758949499223858, 1.01135387594098, 1.052010390716835, 1.0977902346374695, 1.1485496116185727, 1.2040798602085605, 1.2641135595281365, 1.3283318772014157, 1.3963729337077595, 1.4678409337358573, 1.542315801081317, 1.6193630498563718, 1.6985436312235431, 1.7794235109575407, 1.861582757820445, 1.944623954508144, 2.0281797799503054, 2.1119196519465193, 2.195555360323864, 2.2788456608721543, 2.3615998373001745, 2.443680270713571, 2.52500408241263, 2.6055439354011054, 2.6853280926661385, 2.764439836332191, 2.843016351978722, 2.9212471778957947, 2.999372311253243, 3.077680053619932, 3.1565046684998315, 3.23622391487957, 3.3172565142145336, 3.400059604398357, 3.485126233148092, 3.572982944463085, 3.6641875144655165, 3.7593268956875656, 3.859015430149163, 3.9638933896801807, 4.0746258952794765, 4.191902254549716, 4.316435736552962, 4.448963776571042, 4.5902485697351505, 4.741077973598859, 4.902266597510083, 5.074656913795397, 5.259120185493878, 5.456556971122782, 5.66789694215907, 5.894097736703982, 6.136142575673891, 6.395036387460187, 6.671800223858394, 6.967463803482152, 7.2830560868731515, 7.619593866903659, 7.978068444605867, 8.35943054924433, 8.764573746835579, 9.1943166579624, 9.649384368590109, 10.130389462459819, 10.637813127505908, 11.171986790099833, 11.733074709899206, 12.321057926513863, 12.935719890519064, 13.576634040327601, 14.24315350883801, 14.934403065894621, 15.649273330697815, 16.3864172281389, 17.144248619286333, 17.9209430121283, 18.714440255582055, 19.522449137150183, 20.342453839882186, 21.171722263125716, 22.00731626806575, 22.846103966355138, 23.68477422086889, 24.51985356454056, 25.34772575988357, 26.164654213027003, 26.96680741856936, 27.750287544082955, 28.511162166843672, 29.245499053776925, 29.94940373433871, 30.619059462519242, 31.25076900713053, 31.84099755852371, 32.38641590448747, 32.883942917389525, 33.33078631656736, 33.72448063083939, 34.06292129001929, 34.3443938233744, 34.56759723658942, 34.73166077410927, 34.836153445739605, 34.881085898233216, 34.866904436042965, 34.79447723127668, 34.665073001539916, 34.48033266621895, 34.24223470779083, 33.953055156777445, 33.61532328002021, 33.23177417649507, 32.805299568913235, 32.33889812045489, 31.83562660334067, 31.29855320022703, 30.730714132674187, 30.135074686477214, 29.514495545862697, 28.871705162753898, 28.209278679598405, 27.529623701357323, 26.834972981364043, 26.12738385437292, 25.408744025850005, 24.68078311697172, 23.94508917715478, 23.203129216983484, 22.45627269009147, 21.705816767804848, 20.95301220877943, 20.1990886295548, 19.445278031269805, 18.69283553127999, 17.943056382739293, 17.19728853519572, 16.456940188065886, 15.723482008245252, 14.998443913768657, 14.283406557403207, 13.579987867231537, 12.88982520591701, 12.214553887555498, 11.555782933259016, 10.915069048083307, 10.293889858830985, 9.693617463116823, 9.115493305620788, 8.560605320672508, 8.029868166188225, 7.5240072292154085, 7.043546915879965, 6.5888035571505466, 6.159883075574214, 5.756683375828297, 5.378901251702288, 5.026043450988008, 4.697441413298623, 4.39226909798001, 4.1095632521889085, 3.8482454332929925, 3.607145093767641, 3.3850230580591467, 3.180594765631786, 2.9925527179860163, 2.8195876447198285, 2.66040798949295, 2.5137574060450736, 2.378430042713743, 2.2532834774129786, 2.137249240854183, 2.0293409319435933, 1.928659984737135, 1.8343991909093451, 1.745844115975673, 1.6623725726490888, 1.583452332250715, 1.5086372667465837, 1.4375621214533256, 1.369936123267142, 1.3055356326246603, 1.2441960500933604, 1.185803190848536, 1.1302843422083189, 1.077599220349988, 1.0277310414885368, 0.9806779191352291, 0.9364447914796494, 0.8950360704462602, 0.8564491857711329, 0.8206691730634218, 0.7876644242173403, 0.7573836821548626, 0.7297543206271547, 0.7046819050655845, 0.6820509840289658, 0.6617270147161844, 0.6435592825444935, 0.6273846361993615, 0.6130318279761807, 0.6003262265149264, 0.5890946566187948, 0.5791701196674036, 0.5703961585048559, 0.5626306522837757, 0.5557488586241616, 0.5496455610542597, 0.5442362269866107, 0.53945713300209, 0.5352644672775564, 0.531632470820607, 0.5285507270667776, 0.5260207508868305, 0.5240520610613919, 0.5226579432233174, 0.5218511221459808, 0.521639562701814, 0.5220226081036627, 0.5229876430529318, 0.5245074395717951, 0.5265383064475907, 0.5290191215335889, 0.5318712819722186, 0.5349995631037783, 0.5382938346543116, 0.5416315447834477, 0.5448808504000352, 0.5479042470883305, 0.5505625348383018, 0.5527189468753569, 0.5542432681183447, 0.5550157766325126, 0.5549308550180967, 0.553900137860537, 0.5518550848743359, 0.5487488958354965, 0.5445577114654785, 0.5392810728368566, 0.5329416394942655, 0.5255841923817465, 0.5172739710970032, 0.5080944154122872, 0.49814439805399796, 0.4875350492212306, 0.4763862831765217, 0.4648231434812587, 0.4529720861557304, 0.4409573193374918, 0.42889731402983516, 0.4169015934277827, 0.40506789825428546, 0.39347981273851523, 0.38220492057500777, 0.3712935427400421, 0.3607780898194057, 0.35067304102663766, 0.34097554096955635, 0.331666584152325, 0.3227127369467978, 0.31406832813282737, 0.30567802288952767, 0.2974796820606658, 0.2894073992547063, 0.28139460335770994, 0.2733771136241956, 0.2652960387311988, 0.25710041985682797, 0.2487495305591295, 0.2402147623441623, 0.2314810434960271, 0.2225477590294053, 0.21342916047005697, 0.2041542745099148, 0.19476633841289728, 0.18532180647298158, 0.17588898512594622, 0.1665463639809442, 0.15738071579714927, 0.14848504026122566, 0.13995642453976329, 0.13189388841806593, 0.12439627399898093, 0.11756023015483628, 0.11147833100280956, 0.10623735642035641, 0.10191675179735811, 0.0985872745027998, 0.09630982645587406, 0.09513446609731897, 0.0950995891379898, 0.09623126571718287, 0.09854272186228587, 0.10203395508800304, 0.10669147718043358, 0.11248818118041325, 0.11938333378580114, 0.12732269832298607, 0.13623879663712662, 0.14605132034891724, 0.1566677026640409, 0.16798386116578778, 0.17988511976567634, 0.19224731434620976, 0.20493808182458656, 0.21781832669834525, 0.23074385295970348, 0.24356714296420354, 0.25613925878455457, 0.2683118361122836, 0.27993913617292515, 0.2908801176101018, 0.30100048800667095, 0.3101746937058181, 0.31828780685822317, 0.3252372700796043, 0.3309344616380356, 0.33530604755674637, 0.338295091259074, 0.3398618962447688, 0.33998456263169263, 0.3386592441047026, 0.3359000977852527, 0.331738925689037, 0.3262245127022932, 0.31942167230778257], \"yaxis\": \"y\"}, {\"legendgroup\": \"PRE_COVID\", \"marker\": {\"color\": \"rgb(255, 127, 14)\"}, \"mode\": \"lines\", \"name\": \"PRE_COVID\", \"showlegend\": false, \"type\": \"scatter\", \"x\": [-0.041822539474058895, -0.04163784466222609, -0.04145314985039327, -0.04126845503856046, -0.041083760226727654, -0.04089906541489484, -0.04071437060306203, -0.04052967579122922, -0.04034498097939641, -0.0401602861675636, -0.03997559135573078, -0.039790896543897974, -0.039606201732065166, -0.03942150692023235, -0.03923681210839954, -0.039052117296566734, -0.03886742248473392, -0.03868272767290111, -0.0384980328610683, -0.038313338049235486, -0.03812864323740268, -0.03794394842556987, -0.037759253613737054, -0.037574558801904245, -0.03738986399007144, -0.03720516917823862, -0.03702047436640581, -0.036835779554573, -0.03665108474274019, -0.03646638993090738, -0.03628169511907457, -0.03609700030724176, -0.03591230549540895, -0.03572761068357613, -0.035542915871743325, -0.035358221059910516, -0.0351735262480777, -0.03498883143624489, -0.034804136624412084, -0.03461944181257927, -0.03443474700074646, -0.03425005218891365, -0.034065357377080836, -0.03388066256524803, -0.03369596775341522, -0.033511272941582404, -0.033326578129749596, -0.03314188331791679, -0.03295718850608397, -0.03277249369425116, -0.03258779888241835, -0.03240310407058554, -0.03221840925875273, -0.03203371444691992, -0.03184901963508711, -0.0316643248232543, -0.03147963001142148, -0.031294935199588675, -0.031110240387755863, -0.03092554557592305, -0.030740850764090243, -0.03055615595225743, -0.03037146114042462, -0.03018676632859181, -0.030002071516759, -0.029817376704926186, -0.029632681893093378, -0.029447987081260563, -0.029263292269427754, -0.029078597457594946, -0.028893902645762134, -0.028709207833929322, -0.028524513022096513, -0.028339818210263698, -0.02815512339843089, -0.027970428586598078, -0.02778573377476527, -0.027601038962932457, -0.027416344151099645, -0.027231649339266834, -0.027046954527434025, -0.026862259715601213, -0.0266775649037684, -0.026492870091935593, -0.026308175280102777, -0.02612348046826997, -0.02593878565643716, -0.02575409084460435, -0.02556939603277154, -0.025384701220938725, -0.025200006409105916, -0.025015311597273104, -0.024830616785440292, -0.02464592197360748, -0.024461227161774672, -0.02427653234994186, -0.02409183753810905, -0.02390714272627624, -0.023722447914443428, -0.02353775310261062, -0.023353058290777804, -0.023168363478944996, -0.022983668667112184, -0.022798973855279375, -0.02261427904344656, -0.02242958423161375, -0.022244889419780943, -0.022060194607948128, -0.02187549979611532, -0.021690804984282507, -0.0215061101724497, -0.021321415360616883, -0.021136720548784075, -0.020952025736951266, -0.020767330925118455, -0.020582636113285643, -0.02039794130145283, -0.020213246489620022, -0.02002855167778721, -0.0198438568659544, -0.01965916205412159, -0.019474467242288778, -0.019289772430455966, -0.019105077618623154, -0.018920382806790346, -0.018735687994957534, -0.018550993183124722, -0.01836629837129191, -0.0181816035594591, -0.017996908747626293, -0.017812213935793478, -0.01762751912396067, -0.017442824312127857, -0.01725812950029505, -0.017073434688462234, -0.016888739876629425, -0.016704045064796613, -0.0165193502529638, -0.016334655441130993, -0.01614996062929818, -0.015965265817465372, -0.015780571005632557, -0.015595876193799749, -0.015411181381966937, -0.015226486570134128, -0.015041791758301316, -0.014857096946468504, -0.014672402134635696, -0.014487707322802884, -0.014303012510970072, -0.01411831769913726, -0.013933622887304452, -0.013748928075471643, -0.013564233263638828, -0.01337953845180602, -0.013194843639973208, -0.013010148828140396, -0.012825454016307584, -0.012640759204474775, -0.012456064392641963, -0.012271369580809151, -0.012086674768976343, -0.011901979957143531, -0.011717285145310723, -0.011532590333477907, -0.011347895521645099, -0.011163200709812287, -0.010978505897979475, -0.010793811086146663, -0.010609116274313855, -0.010424421462481043, -0.010239726650648234, -0.010055031838815426, -0.00987033702698261, -0.009685642215149802, -0.009500947403316987, -0.009316252591484185, -0.00913155777965137, -0.008946862967818554, -0.008762168155985746, -0.008577473344152937, -0.008392778532320122, -0.008208083720487314, -0.008023388908654498, -0.00783869409682169, -0.007653999284988881, -0.007469304473156066, -0.007284609661323264, -0.007099914849490449, -0.006915220037657634, -0.006730525225824825, -0.006545830413992017, -0.006361135602159201, -0.006176440790326393, -0.0059917459784935845, -0.005807051166660776, -0.005622356354827961, -0.005437661542995145, -0.005252966731162344, -0.005068271919329528, -0.004883577107496713, -0.0046988822956639115, -0.004514187483831096, -0.004329492671998281, -0.004144797860165472, -0.003960103048332664, -0.0037754082364998554, -0.00359071342466704, -0.0034060186128342246, -0.003221323801001423, -0.0030366289891686077, -0.0028519341773357923, -0.002667239365502991, -0.0024825445536701754, -0.00229784974183736, -0.0021131549300045516, -0.0019284601181717431, -0.0017437653063389347, -0.0015590704945061193, -0.0013743756826733108, -0.0011896808708405024, -0.001004986059007687, -0.0008202912471748716, -0.0006355964353420701, -0.0004509016235092547, -0.0002662068116764463, -8.151199984363783e-05, 0.00010318281198917756, 0.000287877623821986, 0.0004725724356548014, 0.0006572672474876098, 0.0008419620593204183, 0.0010266568711532337, 0.0012113516829860421, 0.0013960464948188506, 0.001580741306651666, 0.0017654361184844744, 0.0019501309303172829, 0.0021348257421500982, 0.0023195205539829067, 0.002504215365815715, 0.0026889101776485305, 0.002873604989481339, 0.0030582998013141544, 0.003242994613146963, 0.0034276894249797712, 0.0036123842368125866, 0.003797079048645395, 0.0039817738604782035, 0.004166468672311019, 0.004351163484143827, 0.004535858295976636, 0.004720553107809451, 0.00490524791964226, 0.005089942731475075, 0.0052746375433078765, 0.005459332355140692, 0.005644027166973507, 0.005828721978806309, 0.006013416790639124, 0.00619811160247194, 0.006382806414304748, 0.0065675012261375565, 0.006752196037970372, 0.00693689084980318, 0.007121585661635989, 0.007306280473468797, 0.007490975285301613, 0.007675670097134428, 0.00786036490896723, 0.008045059720800045, 0.00822975453263286, 0.008414449344465669, 0.008599144156298477, 0.008783838968131293, 0.008968533779964101, 0.00915322859179691, 0.009337923403629718, 0.009522618215462533, 0.009707313027295349, 0.00989200783912815, 0.010076702650960966, 0.010261397462793781, 0.010446092274626582, 0.010630787086459398, 0.010815481898292206, 0.011000176710125022, 0.01118487152195783, 0.011369566333790639, 0.011554261145623454, 0.011738955957456262, 0.01192365076928907, 0.012108345581121886, 0.012293040392954702, 0.012477735204787503, 0.012662430016620319, 0.012847124828453127, 0.013031819640285935, 0.01321651445211875, 0.01340120926395156, 0.013585904075784375, 0.013770598887617183, 0.013955293699449992, 0.014139988511282807, 0.014324683323115608, 0.014509378134948424, 0.01469407294678124, 0.014878767758614048, 0.015063462570446856, 0.015248157382279671, 0.01543285219411248, 0.015617547005945295, 0.015802241817778104, 0.015986936629610912, 0.016171631441443728, 0.01635632625327653, 0.016541021065109345, 0.01672571587694216, 0.01691041068877497, 0.017095105500607777, 0.017279800312440592, 0.0174644951242734, 0.01764918993610621, 0.017833884747939024, 0.018018579559771833, 0.01820327437160465, 0.01838796918343745, 0.018572663995270265, 0.01875735880710308, 0.018942053618935882, 0.019126748430768697, 0.019311443242601513, 0.01949613805443432, 0.01968083286626713, 0.019865527678099945, 0.020050222489932754, 0.02023491730176557, 0.02041961211359837, 0.020604306925431186, 0.020789001737264, 0.02097369654909681, 0.021158391360929618, 0.021343086172762427, 0.02152778098459525, 0.021712475796428043, 0.021897170608260866, 0.022081865420093674, 0.022266560231926483, 0.02245125504375929, 0.022635949855592113, 0.022820644667424922, 0.02300533947925773, 0.023190034291090525, 0.023374729102923347, 0.023559423914756156, 0.023744118726588964, 0.023928813538421786, 0.024113508350254595, 0.024298203162087403, 0.024482897973920226, 0.02466759278575302, 0.02485228759758583, 0.02503698240941865, 0.02522167722125146, 0.025406372033084268, 0.02559106684491709, 0.0257757616567499, 0.025960456468582693, 0.026145151280415516, 0.026329846092248324, 0.026514540904081133, 0.02669923571591394, 0.026883930527746763, 0.02706862533957957, 0.027253320151412366, 0.02743801496324519, 0.027622709775077997, 0.027807404586910806, 0.027992099398743628, 0.028176794210576436, 0.028361489022409245, 0.028546183834242053, 0.02873087864607486, 0.02891557345790767, 0.029100268269740492, 0.0292849630815733, 0.02946965789340611, 0.02965435270523893, 0.029839047517071726, 0.030023742328904535, 0.030208437140737343, 0.030393131952570165, 0.030577826764402974, 0.030762521576235782, 0.030947216388068605, 0.0311319111999014, 0.03131660601173421, 0.03150130082356703, 0.03168599563539984, 0.03187069044723265, 0.03205538525906547, 0.03224008007089828, 0.03242477488273107, 0.032609469694563895, 0.0327941645063967, 0.03297885931822951, 0.033163554130062334, 0.03334824894189514, 0.03353294375372795, 0.033717638565560745, 0.03390233337739357, 0.034087028189226376, 0.034271723001059184, 0.03445641781289201, 0.034641112624724815, 0.034825807436557624, 0.035010502248390446, 0.03519519706022324, 0.03537989187205605, 0.03556458668388887, 0.03574928149572168, 0.03593397630755449, 0.03611867111938731, 0.03630336593122012, 0.036488060743052914, 0.036672755554885736, 0.036857450366718544, 0.03704214517855135, 0.037226839990384175, 0.037411534802216984, 0.03759622961404979, 0.03778092442588259, 0.03796561923771541, 0.03815031404954822, 0.038335008861381026, 0.03851970367321385, 0.03870439848504666, 0.038889093296879465, 0.039073788108712273, 0.03925848292054508, 0.03944317773237789, 0.03962787254421071, 0.03981256735604352, 0.03999726216787633, 0.04018195697970915, 0.040366651791541946, 0.040551346603374755, 0.04073604141520758, 0.040920736227040386, 0.041105431038873194, 0.041290125850706, 0.041474820662538825, 0.04165951547437162, 0.04184421028620443, 0.04202890509803725, 0.04221359990987006, 0.04239829472170287, 0.04258298953353569, 0.0427676843453685, 0.04295237915720129, 0.043137073969034115, 0.04332176878086692, 0.04350646359269973, 0.043691158404532554, 0.04387585321636536, 0.04406054802819817, 0.04424524284003098, 0.04442993765186379, 0.044614632463696596, 0.044799327275529405, 0.04498402208736223, 0.045168716899195036, 0.045353411711027844, 0.04553810652286065, 0.04572280133469346, 0.04590749614652627, 0.04609219095835909, 0.0462768857701919, 0.04646158058202471, 0.04664627539385753, 0.046830970205690325, 0.047015665017523134, 0.047200359829355956, 0.047385054641188765, 0.04756974945302157, 0.047754444264854395, 0.047939139076687204, 0.04812383388852001, 0.04830852870035282, 0.04849322351218563, 0.04867791832401844, 0.048862613135851246, 0.04904730794768407, 0.04923200275951688, 0.049416697571349685, 0.049601392383182494, 0.0497860871950153, 0.04997078200684811, 0.05015547681868093, 0.05034017163051374], \"xaxis\": \"x\", \"y\": [0.3757071293811391, 0.38455837043817576, 0.3927090411732055, 0.4001659786037166, 0.4069452877877603, 0.41307154405444885, 0.41857691276480685, 0.4235002459563042, 0.42788621555060125, 0.431784539717172, 0.435249352530594, 0.4383387574705862, 0.4411145930080654, 0.44364242407936605, 0.4459917573940618, 0.4482364620711551, 0.450455360934941, 0.45273294281973575, 0.4551601332908795, 0.4578350510651266, 0.4608636707592226, 0.46436030990264093, 0.4684478597217644, 0.4732576851340874, 0.47892912956422473, 0.4856085742806886, 0.4934480194302865, 0.5026031741214597, 0.5132310649461378, 0.5254871952991682, 0.5395223107651393, 0.5554788476917787, 0.5734871618853312, 0.5936616512470958, 0.6160968993314981, 0.640863975595152, 0.668007032038325, 0.6975403347120324, 0.7294458620637335, 0.7636715904037846, 0.8001305701639161, 0.8387008755367693, 0.8792264851432001, 0.9215191233258384, 0.9653610613864763, 1.010508846537898, 1.0566978945601113, 1.1036478512044146, 1.1510685983499929, 1.198666754834185, 1.2461524997388183, 1.2932465286203922, 1.3396869414992598, 1.3852358559967126, 1.4296855402724573, 1.472863868603071, 1.5146389175605748, 1.554922542559264, 1.5936728025452496, 1.6308951340603162, 1.6666422138315928, 1.7010124902135815, 1.734147406846031, 1.766227385257356, 1.797466675222091, 1.8281072208370848, 1.858411724931715, 1.8886561231153334, 1.9191217002324175, 1.9500870952508993, 1.981820444984695, 2.014571912249502, 2.04856683016952, 2.0839996718938516, 2.121029024836606, 2.159773711970555, 2.200310161224463, 2.242671079427718, 2.28684544141618, 2.3327797598028996, 2.3803805584058497, 2.4295179341313133, 2.480030059705632, 2.531728454175537, 2.5844038303268917, 2.6378323184626393, 2.691781864278694, 2.746018604432228, 2.8003130360115813, 2.8544458144062816, 2.908213036750782, 2.961430893774451, 3.013939600111117, 3.0656065405544637, 3.116328596192189, 3.1660336388314936, 3.214681203921493, 3.2622623708493963, 3.3087988948827056, 3.3543416472530114, 3.398968429244312, 3.442781233129118, 3.485903027941333, 3.52847415194841, 3.570648396790213, 3.612588870972673, 3.6544637329612484, 3.6964418865432696, 3.738688733255976, 3.7813620781681405, 3.8246082856777295, 3.8685587806814743, 3.913326986900855, 3.9590057877837186, 4.005665585837221, 4.053353023272583, 4.10209041048193, 4.1518758894221675, 4.2026843370327605, 4.254468990213021, 4.3071637497088044, 4.360686096753881, 4.414940534811643, 4.469822450598274, 4.525222274967111, 4.58102981622628, 4.637138636792592, 4.693450349142577, 4.749878718788129, 4.8063534800314125, 4.862823793669177, 4.919261303357836, 4.975662777428738, 5.032052353728568, 5.088483434589843, 5.145040305332316, 5.201839570887723, 5.2590315195851405, 5.316801529528333, 5.375371630464763, 5.435002322210229, 5.495994729712126, 5.558693145411298, 5.623487972923445, 5.690819043901717, 5.761179234348661, 5.835118259992699, 5.91324648517865, 5.996238538633481, 6.084836494963856, 6.179852355116948, 6.282169544262995, 6.39274314318823, 6.5125985803719315, 6.642828536959332, 6.784587855746817, 6.939086297389931, 7.107579051077968, 7.291354981103239, 7.491722672821114, 7.709994428768762, 7.947468455179428, 8.205409567548836, 8.485028827895414, 8.787462602481645, 9.113751593670216, 9.464820450089661, 9.84145859247114, 10.244302905872607, 10.67382294049915, 11.130309231530521, 11.613865292537778, 12.124403757254678, 12.661647041556964, 13.225132773294494, 13.814224094845555, 14.428124785573477, 15.065898983302903, 15.726495110825088, 16.40877344129451, 17.111536571675227, 17.833561922900323, 18.57363525589143, 19.330584090549234, 20.1033098461889, 20.89081749169762, 21.692241505783404, 22.506867004478913, 23.33414499530155, 24.173700864072444, 25.02533538839308, 25.889017796291892, 26.764870642936653, 27.65314655430388, 28.554197174741237, 29.46843494493513, 30.39628861686353, 31.338153671770826, 32.294339035381505, 33.26501167172046, 34.250140774654064, 35.249443358014304, 36.262333066419856, 37.287873987520236, 38.324741142685895, 39.37118916995112, 40.42503049549524, 41.48362402549423, 42.543875088037446, 43.602247025711, 44.654784495141904, 45.69714818254328, 46.724660306373764, 47.732359961382606, 48.71506707334665, 49.667453490093926, 50.584119539563325, 51.459674245270314, 52.28881730702561, 53.0664209312124, 53.787609629260224, 54.44783619193573, 55.04295218558737, 55.56927149780792, 56.02362567613224, 56.40341004551291, 56.7066198490998, 56.93187592291679, 57.078439679357295, 57.146217428675044, 57.13575430449947, 57.04821827277231, 56.88537488871205, 56.64955362030084, 56.34360667771011, 55.97086137584916, 55.53506711297815, 55.04033807435747, 54.49109276940451, 53.891991487635934, 53.247872717005926, 52.563689512419074, 51.844446736358606, 51.09514002150015, 50.32069723009544, 49.52592310932618, 48.7154477675088, 47.89367952394628, 47.064762615612494, 46.23254017630286, 45.40052283745725, 44.57186323327519, 43.74933662454557, 42.93532778437185, 42.13182421346777, 41.34041567208468, 40.56229992957055, 39.798294541344056, 39.048854367635336, 38.31409445034066, 37.5938177660222, 36.88754727727831, 36.194561614662256, 35.51393364053434, 34.84457107827067, 34.185258338562484, 33.534698642224946, 32.891555528559415, 32.25449285173558, 31.62221240587462, 30.99348838255669, 30.367197951360453, 29.74234736275075, 29.118093100174224, 28.493757750718956, 27.868840416532517, 27.243021647212856, 26.61616303109683, 25.98830173519339, 25.35964042402522, 24.730533111836383, 24.101467606112912, 23.47304527959058, 22.845958960318, 22.22096975343441, 21.598883603786824, 20.9805283761865, 20.366732171930884, 19.75830351912258, 19.156013974086516, 18.560583556255427, 17.97266931414939, 17.392857190623356, 16.821657226488856, 16.259502017801204, 15.706748227974991, 15.163680855285756, 14.630519872333625, 14.107428788968155, 13.594524645395692, 13.091888918236881, 12.599578818843193, 12.117638479111683, 11.646109553579862, 11.185040815398922, 10.734496385123025, 10.294562302090169, 9.865351225344195, 9.447005131409641, 9.039695956747508, 8.64362421059375, 8.259015656625866, 7.886116227406442, 7.525185392117511, 7.1764882444676426, 6.8402866129950155, 6.516829519897068, 6.2063433269716075, 5.909021908582145, 5.625017182397799, 5.354430309886477, 5.0973038512465045, 4.853615124880914, 4.623270980988983, 4.406104153766168, 4.201871308483546, 4.0102528497624474, 3.8308545070273303, 3.663210663704371, 3.506789349439068, 3.360998770541819, 3.2251952140257365, 3.0986921258448135, 2.9807701350089806, 2.8706877727401743, 2.7676926201895595, 2.6710326097558834, 2.579967203865618, 2.4937781811697364, 2.411779773286814, 2.333327915114225, 2.2578283978102367, 2.1847437451269682, 2.1135986700027907, 2.0439840082187044, 1.9755590683821773, 1.908052381326796, 1.8412608759432605, 1.7750475511987205, 1.70933775437613, 1.6441142121492243, 1.5794109928718079, 1.5153066044128203, 1.4519164511984612, 1.3893848862311675, 1.3278770983828578, 1.2675710721085331, 1.2086498460643083, 1.1512942793786531, 1.0956765102071278, 1.0419542616197923, 0.9902661159437804, 0.9407278416814235, 0.8934298184195111, 0.8484355661606043, 0.8057813476559641, 0.7654767769505137, 0.7275063356939594, 0.6918316718927102, 0.6583945345314399, 0.6271201825003917, 0.597921097886158, 0.5707008320134367, 0.5453578174938909, 0.5217889905255266, 0.49989308414665806, 0.4795734742440847, 0.4607404848548326, 0.4433130865866262, 0.4272199506559753, 0.41239984993576656, 0.39880142638328914, 0.3863823702307333, 0.3751080794270941, 0.3649498872359222, 0.3558829610041244, 0.3478839854997424, 0.3409287496464878, 0.3349897559334536, 0.33003396741505125, 0.32602079838130976, 0.3229004419719638, 0.3206126118618554, 0.3190857563965298, 0.31823678301531555, 0.31797130931497697, 0.3181844355386779, 0.31876201245705327, 0.3195823593213089, 0.32051836951183854, 0.32143992727410947, 0.322216547996153, 0.3227201471691285, 0.3228278396657386, 0.322424671299989, 0.3214061886750626, 0.319680760820825, 0.31717157667692825, 0.3138182555895929, 0.30957802307047316, 0.30442642046377, 0.2983575341994032, 0.2913837472884837, 0.283535031981335, 0.2748578174496378, 0.26541347944246996, 0.255276509668652, 0.24453243085583037, 0.23327552883423514, 0.22160647552080173, 0.20962991639201264, 0.1974520931021147, 0.18517856659992166, 0.17291209877926314, 0.16075074178562987, 0.14878617405526487, 0.13710231145996846, 0.12577421104202102, 0.11486727419215488, 0.10443674614653, 0.09452749969294312, 0.08517408324737183, 0.07640100717732565, 0.06822323751722897, 0.06064686307484669, 0.053669900327542486, 0.04728320035130675, 0.04147142316151293, 0.03621404708076955, 0.031486383868680946, 0.027260574120353816, 0.023506541633256425, 0.020192889832899956, 0.01728772773194303, 0.014759417094478129, 0.012577236336330793, 0.010711960093971802, 0.009136356252506006, 0.007825604482441377, 0.006757641970837194, 0.005913443047223787, 0.0052772398242875935, 0.004836690843524504, 0.0045830040989288225, 0.004511019782129648, 0.0046192567346659, 0.004909924998683529, 0.00538890512215265, 0.006065693097166671, 0.006953308089092979, 0.008068158548275603, 0.00942986097966319, 0.011061004669127555, 0.012986855110875434, 0.015234988820582078, 0.017834852712654507, 0.020817242309524545, 0.02421369475785402, 0.028055794948739197, 0.03237439594701543, 0.03719875836927665, 0.04255561722050017, 0.04846818888265682, 0.05495513529228624, 0.06202950666725703, 0.06969768824295579, 0.07795838013692583, 0.08680164245423078, 0.09620803985362347, 0.10614792081323376, 0.11658086658878637, 0.1274553432131219, 0.13870858676112974, 0.15026674747979524, 0.16204531230886995, 0.1739498179178704, 0.1858768578581355, 0.19771537804354117, 0.2093482448619593, 0.22065406016396416, 0.23150918759232617, 0.24178994563774656, 0.25137491485955316, 0.26014730029307365, 0.26799728552661367, 0.2748243125484013, 0.2805392214278348, 0.2850661862949183, 0.2883443888966249, 0.29032937810682596], \"yaxis\": \"y\"}, {\"legendgroup\": \"COVID\", \"marker\": {\"color\": \"rgb(31, 119, 180)\", \"symbol\": \"line-ns-open\"}, \"mode\": \"markers\", \"name\": \"COVID\", \"showlegend\": false, \"type\": \"scatter\", \"x\": [0.0, -0.007572232086253461, 0.0038150522153153066, -0.002811778389022801, 0.005329535343398861, 0.00678065008054296, -0.002877707078727143, 0.006877348137595218, -0.0015246226001053298, 0.0022598563838194252, 0.008318385640522896, 0.003112531607449398, -0.0019581984530852026, 0.00012076064427746225, 0.001146873316193231, -0.008893078473130589, -0.01602941015397852, 0.010479180834621404, -0.0008260270660148672, 0.003245355508624037, -0.018157904440629147, 0.007428539204569429, 0.015241278156875149, 0.011548006512781761, 0.0033648562472896604, -0.005329657288980605, 0.007465324835689735, 0.0017330495163478954, 0.006442769598437925, -0.0010669639799936181, 0.001602112393058297, -0.0025769993617832387, 0.004781234067075868, -0.004108246191502518, -0.010298266438405812, -0.03316540012948488, -0.030302148148601438, -0.0036782153272646445, -0.044911685393258405, -0.0042015393028288495, 0.04330650633543143, -0.028632456936587558, 0.04203302498111605, -0.03324168797105831, -0.0165311120438405, -0.0780944688457279, 0.051744890897444495, -0.048748447979579, -0.09567715933502474, 0.08548630008671032, -0.1094237347171908, 0.05399206452385896, -0.05063292265862818, 0.002124979166666874, -0.04868817198220832, -0.02556820770671031, 0.09060326203996305, 0.014970179271318607, 0.05838980270160299, -0.02978565713082748, 0.03247571645865133, -0.01490538539817432, -0.045004872938894325, 0.023075393615487938, -0.014454195175680473, 0.06716621485824392, 0.001019482048222553, 0.0335684148612303, 0.015217359468734593, -0.009130150576700857, 0.02949287122552602, -0.02124810179628267, 0.004824294181152933, 0.02701543833001563, -0.017617983309134333, -0.030363248415969935, 0.0221945385300657, -7.172697803525807e-05, 0.013938706396743328, 0.014418443600316522, -0.0045984220699566425, 0.026178489175223474, -0.009310664997087437, -0.026473429182016894, 0.0027582233288869773, 0.009239323395721533, -0.006778720383111003, 0.012066817941952523, 0.01654619409004221, 0.00020516345092902455, -0.019931579487179496, -0.01768586447861209, 0.011967311534787362, 0.004596968085774256, 0.030459693413649847, -0.010271183050847621, 0.01698801925886917, -0.00690394385318982, 0.0018990673850538542, 0.012320555697802993, 0.014879002920379358, -0.0018449510817547532, 0.0044559065106910545, 0.004041735580007533, 0.008280147600594923, 0.013308251665175463, -0.002626715415423919, 0.025629532966479296, 0.012087480579789478, -0.007456692173637758, -0.005580002337292278, -0.05764894984326019, 0.011975670069641842, 0.009335646704647482, 0.019247690053646904, -0.004153844061172585, 0.000385018925944669, -0.010071152768205693, 0.006415175945348572, 0.0046036733726686485, -0.025508707918937668, 0.010720543401237181, -0.023751481560081777, 0.014697560994403336, 0.012809545146442503, 0.0070048128974971036, 0.00550696270957296, 0.015437263652404054, -0.010313796321607005, 0.007648651946104312, -0.005692921879468904, 0.0102105444015117, -0.008658962922749036, 0.012959017443260334, 0.009187234668775801, -0.003293450303679668, 0.0028990678447220475, 0.008081580231003471, 0.0021275375712483946, 0.005692055453922595, -0.011931696074696907, -0.006440382889408847, 0.0072924331947701315, -0.00634239215907928, 0.012298726033305174, -0.0035679257438473444, 0.007902204195332274, 0.006952162429479936, 0.0038626143290139137, 0.006210952591716223, 0.0066845385573095495, 0.000717913466733, 0.0029889110771366134, -0.008254668004342824, 0.01394235026234436, -0.0018077732230453725, 2.9715287789944256e-05, 0.0031766061415106073, 0.002160371079158674, -0.004163725305764587, 0.0031135663071222286, 0.003547392702930585, 0.01013315037273288, 0.0034993058279162437, 0.0100256074919447, 0.002186552305130318, 0.006459392196974445, -0.0036225370731159945, 0.009418590990344367, 0.01446399861944414, -0.03441430412923785, -0.008164706209008443, -0.027322929061912804, 0.019747361056769774, -0.017363647675703087, 0.0005090987821243509, 0.013171265719758463, 0.005052360826895974, -0.003968621419901619, -0.008795262789779712, -0.015453793657143833, -0.011129572257001286, 0.01018438079889794, -0.02319095754856637, 0.002665462930876661, 0.01616695826893344, 0.016609347541438835, -0.005446024683886219, 0.007581972012846716, 0.00642000030965395, -0.009494460344617428, 0.01773308791915995, -0.014215966734872687, 0.017406673399954276, 0.008862510011077962, 0.00893015012196785, 0.016087608197994374, -0.0065260847421690915, -0.006283414641941265, -0.0012358606864917299, -0.0006042906474820198, -0.015203429016583003, 0.004005716090005551, -0.0018929290888676231, 0.00548529145292731, 0.0033951831082319472, -0.018479912136271426, -0.0034474025407024156, -0.0341789278156851, 0.010163494028488262, -0.01042487994825847, 0.01120843663601434, 0.01765592606943933, 0.022349224838107196, 0.019502767725665393, -0.00022837483520932178, 0.012565666980058676, -0.001466575482099386, 0.007428550257437161, -0.00970090524543199, 0.013844497960421531, 0.012482549358013628, -0.005378304775220832, -0.012034817980627999, 0.0042101717868254784, -0.006847817113443511, 0.005994439191533862, 0.01611371942321771, -0.0015417570575909645, 0.002785002450945706, -0.004427131582058652, 0.010937388890998045, 0.0021037648848187818, -0.00027265464583581256, 0.008617644284722115, -0.0020549141210505217, 0.0029261616725044792, -0.008968870744265223, -0.00032709553778775824, -0.0011725874269941094, -0.004477160943832659, 0.013519420682066352, 0.0015693525427566968, 0.005591962955681096, -0.00822049506287581, -0.0035755133675405837, -0.001685410279131161, 0.000898641240024034, 0.003890396312994149, 0.008590821138211302, -0.001907789384417602, 0.0014267996899832713, 0.005080822201694257, -0.013613982914116973, 0.0068873286640473985, 0.005978512583741269, 0.014857497465640357, 0.005697715552133165, -0.006740827604762467, 0.00021122025819941825, 0.0026929799868595783, -0.003501982591648467, -0.007292657257395474, 0.00785196142075173, 0.013838692943436426, 0.0009116543445391034, -0.0035394155616129686, 0.003943820466675962, -0.0015609302442468609, -0.024440461658812973, 0.00860020022328234, -0.02001959033949119, 0.016645509994005048, 0.014140224980617067, 0.0007863137450814239, 0.011365708869466307, 0.003935857976975932, 0.007221941825068967, -0.0006658216008342821, -0.0004356515054452226, 0.0016150636305265476, 0.0049397866562364, -0.0008660019025316101, 0.0002294850949626781, -0.0042560053420320765, -0.0017659756302056406, -0.007691716041565266, 0.0012143787334686351, 0.011019326451612965, -0.024095776259166146, -0.0051526222556014245, 0.024240199715014787, -0.007803219111458204, -0.013245707768377524, -0.012374812120831136, 0.018396582902152847, -0.004978765933597917, 0.014277512275286952, 0.006224588472971471, 0.010139155325758598, 0.0013467816973211644, 0.005963574105281255, -0.001261320337415106, 0.0034098809991172097, -0.01454966232317223, -0.005108817676006461, 0.007984966910150382, -0.007870796585453421, -0.005083468549422321, 0.005625575613855682, 0.016114957163511745, -0.0005051063044694271, -0.0026529587211405747, 0.004053342678320027, 0.010799076881356395, 0.014353112042376992, -0.0005905847250190499, 0.0011572958873891093, 0.004746779357552189, 0.007270148536109966, 0.0003645896708204255, 0.0029636817499387735, -0.0034151360054910374, 0.01074245441995525, 0.0033424267600743462, -0.004913049299883787, -0.007321543474130943, 0.009462100291124376, -0.00913312167680469, 0.0108424118157191, 0.0020876206288722443, -0.00021550251007529386, -0.00028739941358835175, 0.006372793575076363, -0.006570513767416797, 0.0021567793574919225, -0.006169337460468549, 0.0003127977517058955, 0.007985585087191716, 0.007277991622053781, -0.009902380956865131, -0.00892475231408929, -0.02124523114170851, 0.01201251807293846, 0.015355337855501805, -0.002544524540493587, -0.008615679377099728, -0.0026217822856640094, 0.0107579568742866, -0.0008187174937843711, 0.010194271411797962, -0.0022187250307907913, 0.0019845471974118123, 0.0005249767254282833, 0.001788738066496487, -0.0008808589469390116, 0.0015726022340318835, -0.0037113649947606575, 0.009145872676181499, -0.0009701940231396922, 0.00021316705647644874, -0.0014919129522873442, 0.0046483837967274955, 0.0016524940978435154, 0.0022389573766299353, -0.0018341696412975672, -0.005583363029078248, -0.00033162920796570017, -0.016707320386029068, 0.014315944793918511, 0.005346196075162624, -0.0012053107184412104, 0.005915759499539597, 0.0035520559366917226, 0.0020159303116171756, 0.0005380751853041321, 0.0008416787231702028, 0.0055365953629704645, 0.007643537981796733, -0.001821470068658404, 0.0035340540612534, -0.00814799538123645, 0.010674779219409292, 0.0035819205533642595, -0.003408966423347204, 0.0014922151701575181, -0.0034155282279372257, -0.007843597469810226, -0.014767921034616993, 0.014330416230956766], \"xaxis\": \"x\", \"y\": [\"COVID\", \"COVID\", \"COVID\", \"COVID\", \"COVID\", \"COVID\", \"COVID\", \"COVID\", \"COVID\", \"COVID\", \"COVID\", \"COVID\", \"COVID\", \"COVID\", \"COVID\", \"COVID\", \"COVID\", \"COVID\", \"COVID\", \"COVID\", \"COVID\", \"COVID\", \"COVID\", \"COVID\", \"COVID\", \"COVID\", \"COVID\", \"COVID\", \"COVID\", \"COVID\", \"COVID\", \"COVID\", \"COVID\", \"COVID\", \"COVID\", \"COVID\", \"COVID\", \"COVID\", \"COVID\", \"COVID\", \"COVID\", \"COVID\", \"COVID\", \"COVID\", \"COVID\", \"COVID\", \"COVID\", \"COVID\", \"COVID\", \"COVID\", \"COVID\", \"COVID\", \"COVID\", \"COVID\", \"COVID\", \"COVID\", \"COVID\", \"COVID\", \"COVID\", \"COVID\", \"COVID\", \"COVID\", \"COVID\", \"COVID\", \"COVID\", \"COVID\", \"COVID\", \"COVID\", \"COVID\", \"COVID\", \"COVID\", \"COVID\", \"COVID\", \"COVID\", \"COVID\", \"COVID\", \"COVID\", \"COVID\", \"COVID\", \"COVID\", \"COVID\", \"COVID\", \"COVID\", \"COVID\", \"COVID\", \"COVID\", \"COVID\", \"COVID\", \"COVID\", \"COVID\", \"COVID\", \"COVID\", \"COVID\", \"COVID\", \"COVID\", \"COVID\", \"COVID\", \"COVID\", \"COVID\", \"COVID\", \"COVID\", \"COVID\", \"COVID\", \"COVID\", \"COVID\", \"COVID\", \"COVID\", \"COVID\", \"COVID\", \"COVID\", \"COVID\", \"COVID\", \"COVID\", \"COVID\", \"COVID\", \"COVID\", \"COVID\", \"COVID\", \"COVID\", \"COVID\", \"COVID\", \"COVID\", \"COVID\", \"COVID\", \"COVID\", \"COVID\", \"COVID\", \"COVID\", \"COVID\", \"COVID\", \"COVID\", \"COVID\", \"COVID\", \"COVID\", \"COVID\", \"COVID\", \"COVID\", \"COVID\", \"COVID\", \"COVID\", \"COVID\", \"COVID\", \"COVID\", \"COVID\", \"COVID\", \"COVID\", \"COVID\", \"COVID\", \"COVID\", \"COVID\", \"COVID\", \"COVID\", \"COVID\", \"COVID\", \"COVID\", \"COVID\", \"COVID\", \"COVID\", \"COVID\", \"COVID\", \"COVID\", \"COVID\", \"COVID\", \"COVID\", \"COVID\", \"COVID\", \"COVID\", \"COVID\", \"COVID\", \"COVID\", \"COVID\", \"COVID\", \"COVID\", \"COVID\", \"COVID\", \"COVID\", \"COVID\", \"COVID\", \"COVID\", \"COVID\", \"COVID\", \"COVID\", \"COVID\", \"COVID\", \"COVID\", \"COVID\", \"COVID\", \"COVID\", \"COVID\", \"COVID\", \"COVID\", \"COVID\", \"COVID\", \"COVID\", \"COVID\", \"COVID\", \"COVID\", \"COVID\", \"COVID\", \"COVID\", \"COVID\", \"COVID\", \"COVID\", \"COVID\", \"COVID\", \"COVID\", \"COVID\", \"COVID\", \"COVID\", \"COVID\", \"COVID\", \"COVID\", \"COVID\", \"COVID\", \"COVID\", \"COVID\", \"COVID\", \"COVID\", \"COVID\", \"COVID\", \"COVID\", \"COVID\", \"COVID\", \"COVID\", \"COVID\", \"COVID\", \"COVID\", \"COVID\", \"COVID\", \"COVID\", \"COVID\", \"COVID\", \"COVID\", \"COVID\", \"COVID\", \"COVID\", \"COVID\", \"COVID\", \"COVID\", \"COVID\", \"COVID\", \"COVID\", \"COVID\", \"COVID\", \"COVID\", \"COVID\", \"COVID\", \"COVID\", \"COVID\", \"COVID\", \"COVID\", \"COVID\", \"COVID\", \"COVID\", \"COVID\", \"COVID\", \"COVID\", \"COVID\", \"COVID\", \"COVID\", \"COVID\", \"COVID\", \"COVID\", \"COVID\", \"COVID\", \"COVID\", \"COVID\", \"COVID\", \"COVID\", \"COVID\", \"COVID\", \"COVID\", \"COVID\", \"COVID\", \"COVID\", \"COVID\", \"COVID\", \"COVID\", \"COVID\", \"COVID\", \"COVID\", \"COVID\", \"COVID\", \"COVID\", \"COVID\", \"COVID\", \"COVID\", \"COVID\", \"COVID\", \"COVID\", \"COVID\", \"COVID\", \"COVID\", \"COVID\", \"COVID\", \"COVID\", \"COVID\", \"COVID\", \"COVID\", \"COVID\", \"COVID\", \"COVID\", \"COVID\", \"COVID\", \"COVID\", \"COVID\", \"COVID\", \"COVID\", \"COVID\", \"COVID\", \"COVID\", \"COVID\", \"COVID\", \"COVID\", \"COVID\", \"COVID\", \"COVID\", \"COVID\", \"COVID\", \"COVID\", \"COVID\", \"COVID\", \"COVID\", \"COVID\", \"COVID\", \"COVID\", \"COVID\", \"COVID\", \"COVID\", \"COVID\", \"COVID\", \"COVID\", \"COVID\", \"COVID\", \"COVID\", \"COVID\", \"COVID\", \"COVID\", \"COVID\", \"COVID\", \"COVID\", \"COVID\", \"COVID\", \"COVID\", \"COVID\", \"COVID\", \"COVID\", \"COVID\", \"COVID\", \"COVID\", \"COVID\", \"COVID\", \"COVID\", \"COVID\", \"COVID\", \"COVID\", \"COVID\", \"COVID\", \"COVID\", \"COVID\", \"COVID\", \"COVID\", \"COVID\", \"COVID\", \"COVID\", \"COVID\", \"COVID\", \"COVID\", \"COVID\", \"COVID\", \"COVID\", \"COVID\", \"COVID\", \"COVID\", \"COVID\", \"COVID\", \"COVID\", \"COVID\", \"COVID\", \"COVID\", \"COVID\", \"COVID\", \"COVID\", \"COVID\", \"COVID\", \"COVID\", \"COVID\", \"COVID\", \"COVID\", \"COVID\"], \"yaxis\": \"y2\"}, {\"legendgroup\": \"PRE_COVID\", \"marker\": {\"color\": \"rgb(255, 127, 14)\", \"symbol\": \"line-ns-open\"}, \"mode\": \"markers\", \"name\": \"PRE_COVID\", \"showlegend\": false, \"type\": \"scatter\", \"x\": [0.0, 0.00632515559614788, 0.004214826027970631, 0.006664070174003278, 0.0018286883776865714, 0.0022634198692157437, -0.0015298826627487827, 0.007296074844886924, 0.006518970131083712, -0.0034182928740724705, 0.009531660434228817, -0.001680805497700666, 0.004549648677206086, 0.008130943858907225, 0.002122491052937825, -0.0003883511472512202, 0.00042374109388432224, 0.011577829646784332, -0.006629890732739785, -0.010257071349583757, 0.0004968199710100318, -0.001135179165700828, -0.0217699242950814, -0.041822539474058895, 0.01970223975264518, -0.005424857774591119, -0.037508900931685574, 0.01502152282301128, 0.014684497131931096, 0.002487389801573814, 0.013496225563909725, 0.012760128532365966, 0.0002929568190048748, -0.006261180820613332, -0.004974230028907067, 0.0012960785615736548, 0.01593933837143502, 0.011612256941903487, -0.01248650980539412, -0.010130084432863118, -0.014540703431784263, 0.005154930661714019, 0.01155795729988629, 0.0025350049411438924, -0.0003664834292272934, 0.004839090126985246, 0.01740236736806211, -0.0012550866219939172, -0.006462688751578405, -0.0051315878681280624, -0.0010896767638071125, -0.0029090472727272276, -0.0135303495172715, 0.0017006987948058327, -0.0019192433178412127, -0.024997153329808453, -0.021314615704896234, 0.027359028592553125, -0.017011728170102658, -0.0029547927178481537, 0.012777612924254056, -0.021584621430772333, 0.012816980569321013, 0.010699118448020517, 0.007892005675307345, -0.022285851775757592, 0.004928380544708455, 0.015900360153256576, -0.005242255445798594, 0.008227111456357683, -0.002933099013017415, 0.008221735053103751, 0.010698444391126216, 0.0007402679541044233, -0.005547542130947436, -0.008479414901293447, -0.00014994937267642783, -0.013467366566862093, 0.002471647930686327, 0.010165735876688231, 0.0009387555926458901, -0.00769053127018704, 0.0017768741530801435, -0.006717484059580503, -0.002203711905605865, 0.012946439969279577, 0.003383294629036193, 0.0, 0.00966576829890986, 0.009350608534322902, 0.0030513088506889385, 0.0004764705777575706, -0.006886969463855697, 0.004205031260677838, -0.0008447693522173338, -0.0024999925554211044, 0.007518549728158241, -0.0027801514939488348, 0.0027511831600739445, -0.0020485697641519085, -0.0023826760578889994, -0.011501029097946591, 0.013344718410496892, -0.006125905476279558, 0.009817686500201761, 0.004751418024457221, 0.0007275809544033951, 0.008360552344008232, -0.00010814347746512798, 0.002956365197324118, 0.001330011852834323, 0.0012924145698764988, -0.003190929149999522, 0.002517757085630068, -0.005740343475249321, -0.0020568216711142062, -0.0038327958044026555, 0.0017059927404716735, -0.0062688371697328105, 0.0018232206032386955, -0.013612834447580657, 0.002214044280442806, -0.008284241348654464, 0.005717501264878466, 0.0014396396264366729, 0.002137960786412263, -0.0035311963987638695, 0.008157958837016421, 0.008458233410982618, 0.009004360187870653, 0.0035984167743450257, -0.007314482050508775, 0.00906599052224899, 0.0007874897230819577, -0.0008941664708204122, 0.0040452674739781536, 0.0021036010906565483, -0.003771429614825572, -0.0011428821428570712, 0.001859335715872934, 0.005032023339099467, 0.008522513859016811, -0.0023591210746410907, -0.00677625124269432, -0.00522351265757337, 0.004929362174844298, -0.0016706430942963202, 0.0054476610471940745, 0.004284822181124248, 0.003667168469664972, 0.003302318544355032, -0.0004201835053658787, -0.0013661599253677048, -0.006700119104427471, -0.0037434594753007477, 0.00638067338431747, -0.007467400650948752, 0.008091415317238226, 0.003520383042458608, 0.0021399530073664685, 0.002345303915395558, -0.0005936404357567149, -0.001327895945547497, 0.006018408432185707, 0.007895339017935488, 0.0004831734435886137, 0.005380787562257794, -0.004048383955907009, 3.4481572214195566e-05, -0.001722296866951134, -0.0026914150836161443, -0.003010050870186687, -0.001943357829770176, 0.001738525693911086, 0.0032974036106059312, 0.0002421968618107062, 0.005914471602007421, 0.0001719836407376718, -0.0052943102775318, 0.005426169978933748, 0.001065611342812245, 0.008103790920596987, -0.005415890286826763, -0.003322035114970756, -0.0009277335241738571, -0.0029922441960448243, 0.002794249296359741, 0.00010319928375102094, 0.0034741675719793808, -0.0005827751468462372, 0.0005487824156178434, -0.007815710243330165, -0.005596997611961085, 0.0, -0.0014592904933116158, -0.03166320873340034, -0.022026501129421505, 0.013888374249370505, -0.005617024579074981, 0.02186588969094516, 0.00017838088826782617, -0.01444114040544242, -0.0005426700551953711, -0.004488651583710368, -0.005090814694345247, -0.03029852145198586, 0.017940524176150996, -0.017587382363136728, -0.005540278415647082, 0.014818480339108708, 0.010680868347796801, 0.010641853995457806, -0.005922982489745099, 0.005516936692213648, 0.006327882896527859, 0.021408894689751712, -0.001814917554004647, -0.009768235294117522, -0.018685205980515485, -0.001871111959871552, -0.006836675783552737, 0.010436627959883316, 0.0026006227697854545, -0.01691449535652112, -0.018506172013983524, 0.003407519373911816, -0.006678699997983983, 0.01614434947768273, 0.003364463551401853, 0.023025309754664214, -0.002185068207465668, 0.0060952731329002585, 0.013241407870300925, -0.03240239308567383, -0.001517128584643923, -0.023235951278327227, 0.0018970292018090085, 0.00022720490176686425, 0.0050353461357031115, -0.0003390190727460274, -0.01846476275511122, -0.019618382080015317, -0.0010964873077360382, -0.014975721224904093, -0.01627794747030875, -0.02617632015354865, -0.026422937595632967, 0.05052486644234655, 0.007677366373147754, -0.001289986660902409, 0.0087588213925327, 0.0010403129084533003, -0.023862763478453064, 0.033495728125506385, 0.007884646808053564, 0.009395329636855854, 0.004673490093890731, 0.0035275574542483756, 0.00038630252653160113, -0.00610092259205286, 0.011460808347959928, 0.0024198386229343782, 0.007586711305640925, 0.013310009582408355, -0.013510493588510308, 0.0020924409624387685, 0.0005314300819037054, 0.008461434648215693, -0.0076002295417271215, -0.0013269866042240341, 0.015830769282399793, 0.008782443060661338, 0.00048162487819558564, 0.007035447730396438, 0.004191848204613269, -0.0013182570197382004, -0.009532797152335348, 0.0012215369129966458, 0.0005545679722167574, 0.012859400873169058, 0.0032469317056489366, -0.0022182080154989903, 0.010897259076877885, 0.0017305801227707196, 0.002015468734595016, -0.0035558743787096336, 0.006199992500180773, 0.0013612308504031834, -0.0007154479388593593, -0.000429596867366433, -0.0018625321549055052, 0.006243792319888364, -0.0036374686281752666, -0.0013600751902663744, -0.006056920889635609, -0.008365402620525098, -0.0019999962910441926, 0.014501242915219592, 0.003770966788026353, 0.00661922096029266, -0.0006397668392658096, 0.0005334827068788073, 0.0036258540658054006, 0.0002479616166310983, -0.003009936324573692, 0.011294701245023742, -0.019246341405156575, -0.0007519820948970191, 0.007454078027929079, -0.005229087315543057, 0.003790441704783376, 0.006305511227778116, 0.01185916124875841, 0.0004898506327817298, 0.001573633592427015, 0.0026533760404516826, 0.004840218796160922, 0.0007623869240160897, -0.005124869122463238, 0.0034109881550310472, -0.0002775607808177538, 0.006765945181962829, -0.0006548214687784881, 0.0006552505409000986, -0.0024468982292955577, 0.0019691724870267713, 0.0008620095492797297, 0.008991683945666074, -0.0022193184543273237, -0.0006160318694988787, 0.004656791836608498, 0.0015677413644015203, 0.0005104093733692139, -0.007516465147544782, -0.002158956184907579, 0.009787780989471973, -0.004115199143336579, -0.016699726395402847, -0.0013892057434946592, -0.0030257538449057764, 0.0050233795433840545, -0.025130235505791743, 0.00904368416882173, 0.005857459545323795, 0.009261257344146845, -0.006465123122761707, -0.006612034797257582, 0.009015664348695385, -0.0030714633670217983, -0.012218569264107915, 0.0022683205712596965, -0.00930053401690567, -0.006710708692715506, 0.0027311964280849477, -0.013475289443698912, -0.0025428925345001296, 0.02170663891923219, 0.008662146681859717, 0.006502675496621757, 0.010007043960970963, 0.004588934564691671, -0.00024226390198878178, -0.0017652440657370816, 0.004126259364423568, -0.0011049693154382423, 0.00038022884670430024, 0.010471019982565943, 0.0022571956687522654, 0.009554313175147211, -0.006286706869129355, -0.0012244387755101505, -0.0098079446018281, -0.000997417079467211, 0.003545973754446541, 0.005145797598627766, 0.009078511945392442, 0.0026043055860880404, 0.007995125513496681, -0.0011378748783616999, -0.0054948202420873615, 0.0012465298540338399, 0.00477803085717543, 0.0023442384219001244, 0.004476950348982323, 0.00033263263594141, -0.003225273482959201, -0.00680502037095565, 0.0036609022523310664, -0.005554911060515644, 0.0024564423328945484, 0.00715006728063261, 0.004699540061658736, -0.004777076666818703, 0.006700033333333355, -0.0018211946021260417, -0.0024546872622975835, -0.010940436249865293, -0.008707921396481466, -0.007529511023327995, -0.030073091895172932, 0.01402290501669956, 0.0005907331726504594, 0.019620078412265096, -0.006811525216462222, -0.012173335370916694, 0.015551709276002468, -0.02956757598636439, 0.0026417753288152657, 0.014755004702371455, 0.012047709633767445, -0.007662542673051331, 0.008135461520706988, -0.0003078372245032268, -0.025687438039785015, 0.011058430520096252, -0.003923628472222163, 0.007041586904200203, 0.012772930210135591, -0.0004442374932500659, -0.005847228346155919, 0.011350413130302606, 0.01285538662869512, 0.0007722147424433778, 0.0005033518068788823, -0.0002347652487687535, 0.00711097495872659, 0.003463810158201408, -0.000663855401856428, -0.0030887509128665336, 0.002532012892696889, 0.0005981423375787109, -6.648621587868053e-05, -0.009299814404469142, -0.00023470564648897518, -0.007846806178938515, 0.005914759960705007, -0.00208317656883239, -0.005387225589225664, 0.004637762450326877, -0.011894730366418638, -0.017664684820102416, 0.008192789753473484, 0.013532101177889722, -0.004314655933793321, -0.01552473113764663, 0.009496378225821722, 0.006763487741265228, 0.010366965978958254, -0.0011137673859652475, 0.009900296946093512, -0.0016060324945457172, 0.002949078477528566, -0.0043771652110974335, 0.006779169021112308, -0.0032667089991901266, 0.002909584866406245, 0.0016339535541891603, 0.0040949862518724345, 0.005636544980705205, -0.0002967260255875015, 0.0030672604056771746, -0.0026633391203061407, 0.009263930769891182, 0.004017704121429544, -0.0011061457056014135, 0.00022801354990709122, 0.0035167273816334443, 0.0024661205051035306, -0.0019097429798035082, 0.0021079746630521257, 0.00032364401294504574, 0.001455781272291512, 0.007236378894642348, 0.0007376118328410453, -0.0002884302389998261, -0.0037187959671451942, -0.001608906965595014, 0.002223876057829033, 0.007750206038564134, 0.002265666819824208, 0.004457539664887822, -0.0037086755395098203, -0.008494744096559148, -0.006706542482999289, 0.006170257063618401, 0.0017979773203038452, 0.009134049421429813, -0.003144123021312395, -0.0011150949229784546, 0.002838688491814567, 0.008619018790003041, 0.0005991296850009764, 0.00687001434485679, 0.00021911424100151677, 6.254967475727291e-05, 0.004098995639400416, -0.0005297070837589901, 0.001527733555310995, 3.1162443088428304e-05, 0.005323260409812791, -0.0002477766752475574, -0.005513219608183961], \"xaxis\": \"x\", \"y\": [\"PRE_COVID\", \"PRE_COVID\", \"PRE_COVID\", \"PRE_COVID\", \"PRE_COVID\", \"PRE_COVID\", \"PRE_COVID\", \"PRE_COVID\", \"PRE_COVID\", \"PRE_COVID\", \"PRE_COVID\", \"PRE_COVID\", \"PRE_COVID\", \"PRE_COVID\", \"PRE_COVID\", \"PRE_COVID\", \"PRE_COVID\", \"PRE_COVID\", \"PRE_COVID\", \"PRE_COVID\", \"PRE_COVID\", \"PRE_COVID\", \"PRE_COVID\", \"PRE_COVID\", \"PRE_COVID\", \"PRE_COVID\", \"PRE_COVID\", \"PRE_COVID\", \"PRE_COVID\", \"PRE_COVID\", \"PRE_COVID\", \"PRE_COVID\", \"PRE_COVID\", \"PRE_COVID\", \"PRE_COVID\", \"PRE_COVID\", \"PRE_COVID\", \"PRE_COVID\", \"PRE_COVID\", \"PRE_COVID\", \"PRE_COVID\", \"PRE_COVID\", \"PRE_COVID\", \"PRE_COVID\", \"PRE_COVID\", \"PRE_COVID\", \"PRE_COVID\", \"PRE_COVID\", \"PRE_COVID\", \"PRE_COVID\", \"PRE_COVID\", \"PRE_COVID\", \"PRE_COVID\", \"PRE_COVID\", \"PRE_COVID\", \"PRE_COVID\", \"PRE_COVID\", \"PRE_COVID\", \"PRE_COVID\", \"PRE_COVID\", \"PRE_COVID\", \"PRE_COVID\", \"PRE_COVID\", \"PRE_COVID\", \"PRE_COVID\", \"PRE_COVID\", \"PRE_COVID\", \"PRE_COVID\", \"PRE_COVID\", \"PRE_COVID\", \"PRE_COVID\", \"PRE_COVID\", \"PRE_COVID\", \"PRE_COVID\", \"PRE_COVID\", \"PRE_COVID\", \"PRE_COVID\", \"PRE_COVID\", \"PRE_COVID\", \"PRE_COVID\", \"PRE_COVID\", \"PRE_COVID\", \"PRE_COVID\", \"PRE_COVID\", \"PRE_COVID\", \"PRE_COVID\", \"PRE_COVID\", \"PRE_COVID\", \"PRE_COVID\", \"PRE_COVID\", \"PRE_COVID\", \"PRE_COVID\", \"PRE_COVID\", \"PRE_COVID\", \"PRE_COVID\", \"PRE_COVID\", \"PRE_COVID\", \"PRE_COVID\", \"PRE_COVID\", \"PRE_COVID\", \"PRE_COVID\", \"PRE_COVID\", \"PRE_COVID\", \"PRE_COVID\", \"PRE_COVID\", \"PRE_COVID\", \"PRE_COVID\", \"PRE_COVID\", \"PRE_COVID\", \"PRE_COVID\", \"PRE_COVID\", \"PRE_COVID\", \"PRE_COVID\", \"PRE_COVID\", \"PRE_COVID\", \"PRE_COVID\", \"PRE_COVID\", \"PRE_COVID\", \"PRE_COVID\", \"PRE_COVID\", \"PRE_COVID\", \"PRE_COVID\", \"PRE_COVID\", \"PRE_COVID\", \"PRE_COVID\", \"PRE_COVID\", \"PRE_COVID\", \"PRE_COVID\", \"PRE_COVID\", \"PRE_COVID\", \"PRE_COVID\", \"PRE_COVID\", \"PRE_COVID\", \"PRE_COVID\", \"PRE_COVID\", \"PRE_COVID\", \"PRE_COVID\", \"PRE_COVID\", \"PRE_COVID\", \"PRE_COVID\", \"PRE_COVID\", \"PRE_COVID\", \"PRE_COVID\", \"PRE_COVID\", \"PRE_COVID\", \"PRE_COVID\", \"PRE_COVID\", \"PRE_COVID\", \"PRE_COVID\", \"PRE_COVID\", \"PRE_COVID\", \"PRE_COVID\", \"PRE_COVID\", \"PRE_COVID\", \"PRE_COVID\", \"PRE_COVID\", \"PRE_COVID\", \"PRE_COVID\", \"PRE_COVID\", \"PRE_COVID\", \"PRE_COVID\", \"PRE_COVID\", \"PRE_COVID\", \"PRE_COVID\", \"PRE_COVID\", \"PRE_COVID\", \"PRE_COVID\", \"PRE_COVID\", \"PRE_COVID\", \"PRE_COVID\", \"PRE_COVID\", \"PRE_COVID\", \"PRE_COVID\", \"PRE_COVID\", \"PRE_COVID\", \"PRE_COVID\", \"PRE_COVID\", \"PRE_COVID\", \"PRE_COVID\", \"PRE_COVID\", \"PRE_COVID\", \"PRE_COVID\", \"PRE_COVID\", \"PRE_COVID\", \"PRE_COVID\", \"PRE_COVID\", \"PRE_COVID\", \"PRE_COVID\", \"PRE_COVID\", \"PRE_COVID\", \"PRE_COVID\", \"PRE_COVID\", \"PRE_COVID\", \"PRE_COVID\", \"PRE_COVID\", \"PRE_COVID\", \"PRE_COVID\", \"PRE_COVID\", \"PRE_COVID\", \"PRE_COVID\", \"PRE_COVID\", \"PRE_COVID\", \"PRE_COVID\", \"PRE_COVID\", \"PRE_COVID\", \"PRE_COVID\", \"PRE_COVID\", \"PRE_COVID\", \"PRE_COVID\", \"PRE_COVID\", \"PRE_COVID\", \"PRE_COVID\", \"PRE_COVID\", \"PRE_COVID\", \"PRE_COVID\", \"PRE_COVID\", \"PRE_COVID\", \"PRE_COVID\", \"PRE_COVID\", \"PRE_COVID\", \"PRE_COVID\", \"PRE_COVID\", \"PRE_COVID\", \"PRE_COVID\", \"PRE_COVID\", \"PRE_COVID\", \"PRE_COVID\", \"PRE_COVID\", \"PRE_COVID\", \"PRE_COVID\", \"PRE_COVID\", \"PRE_COVID\", \"PRE_COVID\", \"PRE_COVID\", \"PRE_COVID\", \"PRE_COVID\", \"PRE_COVID\", \"PRE_COVID\", \"PRE_COVID\", \"PRE_COVID\", \"PRE_COVID\", \"PRE_COVID\", \"PRE_COVID\", \"PRE_COVID\", \"PRE_COVID\", \"PRE_COVID\", \"PRE_COVID\", \"PRE_COVID\", \"PRE_COVID\", \"PRE_COVID\", \"PRE_COVID\", \"PRE_COVID\", \"PRE_COVID\", \"PRE_COVID\", \"PRE_COVID\", \"PRE_COVID\", \"PRE_COVID\", \"PRE_COVID\", \"PRE_COVID\", \"PRE_COVID\", \"PRE_COVID\", \"PRE_COVID\", \"PRE_COVID\", \"PRE_COVID\", \"PRE_COVID\", \"PRE_COVID\", \"PRE_COVID\", \"PRE_COVID\", \"PRE_COVID\", \"PRE_COVID\", \"PRE_COVID\", \"PRE_COVID\", \"PRE_COVID\", \"PRE_COVID\", \"PRE_COVID\", \"PRE_COVID\", \"PRE_COVID\", \"PRE_COVID\", \"PRE_COVID\", \"PRE_COVID\", \"PRE_COVID\", \"PRE_COVID\", \"PRE_COVID\", \"PRE_COVID\", \"PRE_COVID\", \"PRE_COVID\", \"PRE_COVID\", \"PRE_COVID\", \"PRE_COVID\", \"PRE_COVID\", \"PRE_COVID\", \"PRE_COVID\", \"PRE_COVID\", \"PRE_COVID\", \"PRE_COVID\", \"PRE_COVID\", \"PRE_COVID\", \"PRE_COVID\", \"PRE_COVID\", \"PRE_COVID\", \"PRE_COVID\", \"PRE_COVID\", \"PRE_COVID\", \"PRE_COVID\", \"PRE_COVID\", \"PRE_COVID\", \"PRE_COVID\", \"PRE_COVID\", \"PRE_COVID\", \"PRE_COVID\", \"PRE_COVID\", \"PRE_COVID\", \"PRE_COVID\", \"PRE_COVID\", \"PRE_COVID\", \"PRE_COVID\", \"PRE_COVID\", \"PRE_COVID\", \"PRE_COVID\", \"PRE_COVID\", \"PRE_COVID\", \"PRE_COVID\", \"PRE_COVID\", \"PRE_COVID\", \"PRE_COVID\", \"PRE_COVID\", \"PRE_COVID\", \"PRE_COVID\", \"PRE_COVID\", \"PRE_COVID\", \"PRE_COVID\", \"PRE_COVID\", \"PRE_COVID\", \"PRE_COVID\", \"PRE_COVID\", \"PRE_COVID\", \"PRE_COVID\", \"PRE_COVID\", \"PRE_COVID\", \"PRE_COVID\", \"PRE_COVID\", \"PRE_COVID\", \"PRE_COVID\", \"PRE_COVID\", \"PRE_COVID\", \"PRE_COVID\", \"PRE_COVID\", \"PRE_COVID\", \"PRE_COVID\", \"PRE_COVID\", \"PRE_COVID\", \"PRE_COVID\", \"PRE_COVID\", \"PRE_COVID\", \"PRE_COVID\", \"PRE_COVID\", \"PRE_COVID\", \"PRE_COVID\", \"PRE_COVID\", \"PRE_COVID\", \"PRE_COVID\", \"PRE_COVID\", \"PRE_COVID\", \"PRE_COVID\", \"PRE_COVID\", \"PRE_COVID\", \"PRE_COVID\", \"PRE_COVID\", \"PRE_COVID\", \"PRE_COVID\", \"PRE_COVID\", \"PRE_COVID\", \"PRE_COVID\", \"PRE_COVID\", \"PRE_COVID\", \"PRE_COVID\", \"PRE_COVID\", \"PRE_COVID\", \"PRE_COVID\", \"PRE_COVID\", \"PRE_COVID\", \"PRE_COVID\", \"PRE_COVID\", \"PRE_COVID\", \"PRE_COVID\", \"PRE_COVID\", \"PRE_COVID\", \"PRE_COVID\", \"PRE_COVID\", \"PRE_COVID\", \"PRE_COVID\", \"PRE_COVID\", \"PRE_COVID\", \"PRE_COVID\", \"PRE_COVID\", \"PRE_COVID\", \"PRE_COVID\", \"PRE_COVID\", \"PRE_COVID\", \"PRE_COVID\", \"PRE_COVID\", \"PRE_COVID\", \"PRE_COVID\", \"PRE_COVID\", \"PRE_COVID\", \"PRE_COVID\", \"PRE_COVID\", \"PRE_COVID\", \"PRE_COVID\", \"PRE_COVID\", \"PRE_COVID\", \"PRE_COVID\", \"PRE_COVID\", \"PRE_COVID\", \"PRE_COVID\", \"PRE_COVID\", \"PRE_COVID\", \"PRE_COVID\", \"PRE_COVID\", \"PRE_COVID\", \"PRE_COVID\", \"PRE_COVID\", \"PRE_COVID\", \"PRE_COVID\", \"PRE_COVID\", \"PRE_COVID\", \"PRE_COVID\", \"PRE_COVID\", \"PRE_COVID\", \"PRE_COVID\", \"PRE_COVID\", \"PRE_COVID\", \"PRE_COVID\", \"PRE_COVID\", \"PRE_COVID\", \"PRE_COVID\", \"PRE_COVID\", \"PRE_COVID\", \"PRE_COVID\", \"PRE_COVID\", \"PRE_COVID\", \"PRE_COVID\", \"PRE_COVID\", \"PRE_COVID\", \"PRE_COVID\", \"PRE_COVID\", \"PRE_COVID\", \"PRE_COVID\", \"PRE_COVID\", \"PRE_COVID\", \"PRE_COVID\", \"PRE_COVID\", \"PRE_COVID\", \"PRE_COVID\", \"PRE_COVID\", \"PRE_COVID\", \"PRE_COVID\", \"PRE_COVID\", \"PRE_COVID\", \"PRE_COVID\", \"PRE_COVID\", \"PRE_COVID\", \"PRE_COVID\", \"PRE_COVID\", \"PRE_COVID\", \"PRE_COVID\", \"PRE_COVID\", \"PRE_COVID\", \"PRE_COVID\", \"PRE_COVID\", \"PRE_COVID\", \"PRE_COVID\", \"PRE_COVID\", \"PRE_COVID\", \"PRE_COVID\", \"PRE_COVID\", \"PRE_COVID\", \"PRE_COVID\", \"PRE_COVID\", \"PRE_COVID\", \"PRE_COVID\", \"PRE_COVID\", \"PRE_COVID\", \"PRE_COVID\", \"PRE_COVID\", \"PRE_COVID\", \"PRE_COVID\", \"PRE_COVID\", \"PRE_COVID\", \"PRE_COVID\", \"PRE_COVID\", \"PRE_COVID\", \"PRE_COVID\", \"PRE_COVID\", \"PRE_COVID\", \"PRE_COVID\", \"PRE_COVID\", \"PRE_COVID\", \"PRE_COVID\", \"PRE_COVID\", \"PRE_COVID\", \"PRE_COVID\"], \"yaxis\": \"y2\"}],\n",
              "                        {\"barmode\": \"overlay\", \"hovermode\": \"closest\", \"legend\": {\"traceorder\": \"reversed\"}, \"template\": {\"data\": {\"bar\": [{\"error_x\": {\"color\": \"#2a3f5f\"}, \"error_y\": {\"color\": \"#2a3f5f\"}, \"marker\": {\"line\": {\"color\": \"#E5ECF6\", \"width\": 0.5}}, \"type\": \"bar\"}], \"barpolar\": [{\"marker\": {\"line\": {\"color\": \"#E5ECF6\", \"width\": 0.5}}, \"type\": \"barpolar\"}], \"carpet\": [{\"aaxis\": {\"endlinecolor\": \"#2a3f5f\", \"gridcolor\": \"white\", \"linecolor\": \"white\", \"minorgridcolor\": \"white\", \"startlinecolor\": \"#2a3f5f\"}, \"baxis\": {\"endlinecolor\": \"#2a3f5f\", \"gridcolor\": \"white\", \"linecolor\": \"white\", \"minorgridcolor\": \"white\", \"startlinecolor\": \"#2a3f5f\"}, \"type\": \"carpet\"}], \"choropleth\": [{\"colorbar\": {\"outlinewidth\": 0, \"ticks\": \"\"}, \"type\": \"choropleth\"}], \"contour\": [{\"colorbar\": {\"outlinewidth\": 0, \"ticks\": \"\"}, \"colorscale\": [[0.0, \"#0d0887\"], [0.1111111111111111, \"#46039f\"], [0.2222222222222222, \"#7201a8\"], [0.3333333333333333, \"#9c179e\"], [0.4444444444444444, \"#bd3786\"], [0.5555555555555556, \"#d8576b\"], [0.6666666666666666, \"#ed7953\"], [0.7777777777777778, \"#fb9f3a\"], [0.8888888888888888, \"#fdca26\"], [1.0, \"#f0f921\"]], \"type\": \"contour\"}], \"contourcarpet\": [{\"colorbar\": {\"outlinewidth\": 0, \"ticks\": \"\"}, \"type\": \"contourcarpet\"}], \"heatmap\": [{\"colorbar\": {\"outlinewidth\": 0, \"ticks\": \"\"}, \"colorscale\": [[0.0, \"#0d0887\"], [0.1111111111111111, \"#46039f\"], [0.2222222222222222, \"#7201a8\"], [0.3333333333333333, \"#9c179e\"], [0.4444444444444444, \"#bd3786\"], [0.5555555555555556, \"#d8576b\"], [0.6666666666666666, \"#ed7953\"], [0.7777777777777778, \"#fb9f3a\"], [0.8888888888888888, \"#fdca26\"], [1.0, \"#f0f921\"]], \"type\": \"heatmap\"}], \"heatmapgl\": [{\"colorbar\": {\"outlinewidth\": 0, \"ticks\": \"\"}, \"colorscale\": [[0.0, \"#0d0887\"], [0.1111111111111111, \"#46039f\"], [0.2222222222222222, \"#7201a8\"], [0.3333333333333333, \"#9c179e\"], [0.4444444444444444, \"#bd3786\"], [0.5555555555555556, \"#d8576b\"], [0.6666666666666666, \"#ed7953\"], [0.7777777777777778, \"#fb9f3a\"], [0.8888888888888888, \"#fdca26\"], [1.0, \"#f0f921\"]], \"type\": \"heatmapgl\"}], \"histogram\": [{\"marker\": {\"colorbar\": {\"outlinewidth\": 0, \"ticks\": \"\"}}, \"type\": \"histogram\"}], \"histogram2d\": [{\"colorbar\": {\"outlinewidth\": 0, \"ticks\": \"\"}, \"colorscale\": [[0.0, \"#0d0887\"], [0.1111111111111111, \"#46039f\"], [0.2222222222222222, \"#7201a8\"], [0.3333333333333333, \"#9c179e\"], [0.4444444444444444, \"#bd3786\"], [0.5555555555555556, \"#d8576b\"], [0.6666666666666666, \"#ed7953\"], [0.7777777777777778, \"#fb9f3a\"], [0.8888888888888888, \"#fdca26\"], [1.0, \"#f0f921\"]], \"type\": \"histogram2d\"}], \"histogram2dcontour\": [{\"colorbar\": {\"outlinewidth\": 0, \"ticks\": \"\"}, \"colorscale\": [[0.0, \"#0d0887\"], [0.1111111111111111, \"#46039f\"], [0.2222222222222222, \"#7201a8\"], [0.3333333333333333, \"#9c179e\"], [0.4444444444444444, \"#bd3786\"], [0.5555555555555556, \"#d8576b\"], [0.6666666666666666, \"#ed7953\"], [0.7777777777777778, \"#fb9f3a\"], [0.8888888888888888, \"#fdca26\"], [1.0, \"#f0f921\"]], \"type\": \"histogram2dcontour\"}], \"mesh3d\": [{\"colorbar\": {\"outlinewidth\": 0, \"ticks\": \"\"}, \"type\": \"mesh3d\"}], \"parcoords\": [{\"line\": {\"colorbar\": {\"outlinewidth\": 0, \"ticks\": \"\"}}, \"type\": \"parcoords\"}], \"pie\": [{\"automargin\": true, \"type\": \"pie\"}], \"scatter\": [{\"marker\": {\"colorbar\": {\"outlinewidth\": 0, \"ticks\": \"\"}}, \"type\": \"scatter\"}], \"scatter3d\": [{\"line\": {\"colorbar\": {\"outlinewidth\": 0, \"ticks\": \"\"}}, \"marker\": {\"colorbar\": {\"outlinewidth\": 0, \"ticks\": \"\"}}, \"type\": \"scatter3d\"}], \"scattercarpet\": [{\"marker\": {\"colorbar\": {\"outlinewidth\": 0, \"ticks\": \"\"}}, \"type\": \"scattercarpet\"}], \"scattergeo\": [{\"marker\": {\"colorbar\": {\"outlinewidth\": 0, \"ticks\": \"\"}}, \"type\": \"scattergeo\"}], \"scattergl\": [{\"marker\": {\"colorbar\": {\"outlinewidth\": 0, \"ticks\": \"\"}}, \"type\": \"scattergl\"}], \"scattermapbox\": [{\"marker\": {\"colorbar\": {\"outlinewidth\": 0, \"ticks\": \"\"}}, \"type\": \"scattermapbox\"}], \"scatterpolar\": [{\"marker\": {\"colorbar\": {\"outlinewidth\": 0, \"ticks\": \"\"}}, \"type\": \"scatterpolar\"}], \"scatterpolargl\": [{\"marker\": {\"colorbar\": {\"outlinewidth\": 0, \"ticks\": \"\"}}, \"type\": \"scatterpolargl\"}], \"scatterternary\": [{\"marker\": {\"colorbar\": {\"outlinewidth\": 0, \"ticks\": \"\"}}, \"type\": \"scatterternary\"}], \"surface\": [{\"colorbar\": {\"outlinewidth\": 0, \"ticks\": \"\"}, \"colorscale\": [[0.0, \"#0d0887\"], [0.1111111111111111, \"#46039f\"], [0.2222222222222222, \"#7201a8\"], [0.3333333333333333, \"#9c179e\"], [0.4444444444444444, \"#bd3786\"], [0.5555555555555556, \"#d8576b\"], [0.6666666666666666, \"#ed7953\"], [0.7777777777777778, \"#fb9f3a\"], [0.8888888888888888, \"#fdca26\"], [1.0, \"#f0f921\"]], \"type\": \"surface\"}], \"table\": [{\"cells\": {\"fill\": {\"color\": \"#EBF0F8\"}, \"line\": {\"color\": \"white\"}}, \"header\": {\"fill\": {\"color\": \"#C8D4E3\"}, \"line\": {\"color\": \"white\"}}, \"type\": \"table\"}]}, \"layout\": {\"annotationdefaults\": {\"arrowcolor\": \"#2a3f5f\", \"arrowhead\": 0, \"arrowwidth\": 1}, \"coloraxis\": {\"colorbar\": {\"outlinewidth\": 0, \"ticks\": \"\"}}, \"colorscale\": {\"diverging\": [[0, \"#8e0152\"], [0.1, \"#c51b7d\"], [0.2, \"#de77ae\"], [0.3, \"#f1b6da\"], [0.4, \"#fde0ef\"], [0.5, \"#f7f7f7\"], [0.6, \"#e6f5d0\"], [0.7, \"#b8e186\"], [0.8, \"#7fbc41\"], [0.9, \"#4d9221\"], [1, \"#276419\"]], \"sequential\": [[0.0, \"#0d0887\"], [0.1111111111111111, \"#46039f\"], [0.2222222222222222, \"#7201a8\"], [0.3333333333333333, \"#9c179e\"], [0.4444444444444444, \"#bd3786\"], [0.5555555555555556, \"#d8576b\"], [0.6666666666666666, \"#ed7953\"], [0.7777777777777778, \"#fb9f3a\"], [0.8888888888888888, \"#fdca26\"], [1.0, \"#f0f921\"]], \"sequentialminus\": [[0.0, \"#0d0887\"], [0.1111111111111111, \"#46039f\"], [0.2222222222222222, \"#7201a8\"], [0.3333333333333333, \"#9c179e\"], [0.4444444444444444, \"#bd3786\"], [0.5555555555555556, \"#d8576b\"], [0.6666666666666666, \"#ed7953\"], [0.7777777777777778, \"#fb9f3a\"], [0.8888888888888888, \"#fdca26\"], [1.0, \"#f0f921\"]]}, \"colorway\": [\"#636efa\", \"#EF553B\", \"#00cc96\", \"#ab63fa\", \"#FFA15A\", \"#19d3f3\", \"#FF6692\", \"#B6E880\", \"#FF97FF\", \"#FECB52\"], \"font\": {\"color\": \"#2a3f5f\"}, \"geo\": {\"bgcolor\": \"white\", \"lakecolor\": \"white\", \"landcolor\": \"#E5ECF6\", \"showlakes\": true, \"showland\": true, \"subunitcolor\": \"white\"}, \"hoverlabel\": {\"align\": \"left\"}, \"hovermode\": \"closest\", \"mapbox\": {\"style\": \"light\"}, \"paper_bgcolor\": \"white\", \"plot_bgcolor\": \"#E5ECF6\", \"polar\": {\"angularaxis\": {\"gridcolor\": \"white\", \"linecolor\": \"white\", \"ticks\": \"\"}, \"bgcolor\": \"#E5ECF6\", \"radialaxis\": {\"gridcolor\": \"white\", \"linecolor\": \"white\", \"ticks\": \"\"}}, \"scene\": {\"xaxis\": {\"backgroundcolor\": \"#E5ECF6\", \"gridcolor\": \"white\", \"gridwidth\": 2, \"linecolor\": \"white\", \"showbackground\": true, \"ticks\": \"\", \"zerolinecolor\": \"white\"}, \"yaxis\": {\"backgroundcolor\": \"#E5ECF6\", \"gridcolor\": \"white\", \"gridwidth\": 2, \"linecolor\": \"white\", \"showbackground\": true, \"ticks\": \"\", \"zerolinecolor\": \"white\"}, \"zaxis\": {\"backgroundcolor\": \"#E5ECF6\", \"gridcolor\": \"white\", \"gridwidth\": 2, \"linecolor\": \"white\", \"showbackground\": true, \"ticks\": \"\", \"zerolinecolor\": \"white\"}}, \"shapedefaults\": {\"line\": {\"color\": \"#2a3f5f\"}}, \"ternary\": {\"aaxis\": {\"gridcolor\": \"white\", \"linecolor\": \"white\", \"ticks\": \"\"}, \"baxis\": {\"gridcolor\": \"white\", \"linecolor\": \"white\", \"ticks\": \"\"}, \"bgcolor\": \"#E5ECF6\", \"caxis\": {\"gridcolor\": \"white\", \"linecolor\": \"white\", \"ticks\": \"\"}}, \"title\": {\"x\": 0.05}, \"xaxis\": {\"automargin\": true, \"gridcolor\": \"white\", \"linecolor\": \"white\", \"ticks\": \"\", \"title\": {\"standoff\": 15}, \"zerolinecolor\": \"white\", \"zerolinewidth\": 2}, \"yaxis\": {\"automargin\": true, \"gridcolor\": \"white\", \"linecolor\": \"white\", \"ticks\": \"\", \"title\": {\"standoff\": 15}, \"zerolinecolor\": \"white\", \"zerolinewidth\": 2}}}, \"xaxis\": {\"anchor\": \"y2\", \"domain\": [0.0, 1.0], \"zeroline\": false}, \"yaxis\": {\"anchor\": \"free\", \"domain\": [0.35, 1], \"position\": 0.0}, \"yaxis2\": {\"anchor\": \"x\", \"domain\": [0, 0.25], \"dtick\": 1, \"showticklabels\": false}},\n",
              "                        {\"responsive\": true}\n",
              "                    ).then(function(){\n",
              "                            \n",
              "var gd = document.getElementById('2844b49f-9685-466d-bcb5-f391f3f8f6b0');\n",
              "var x = new MutationObserver(function (mutations, observer) {{\n",
              "        var display = window.getComputedStyle(gd).display;\n",
              "        if (!display || display === 'none') {{\n",
              "            console.log([gd, 'removed!']);\n",
              "            Plotly.purge(gd);\n",
              "            observer.disconnect();\n",
              "        }}\n",
              "}});\n",
              "\n",
              "// Listen for the removal of the full notebook cells\n",
              "var notebookContainer = gd.closest('#notebook-container');\n",
              "if (notebookContainer) {{\n",
              "    x.observe(notebookContainer, {childList: true});\n",
              "}}\n",
              "\n",
              "// Listen for the clearing of the current output cell\n",
              "var outputEl = gd.closest('.output');\n",
              "if (outputEl) {{\n",
              "    x.observe(outputEl, {childList: true});\n",
              "}}\n",
              "\n",
              "                        })\n",
              "                };\n",
              "                \n",
              "            </script>\n",
              "        </div>\n",
              "</body>\n",
              "</html>"
            ]
          },
          "metadata": {}
        }
      ]
    },
    {
      "cell_type": "code",
      "metadata": {
        "colab": {
          "base_uri": "https://localhost:8080/"
        },
        "id": "Qplbj7uXnPMG",
        "outputId": "df9513b8-a303-4699-bcef-674461f7f4c1"
      },
      "source": [
        "#Mean calculation\n",
        "pf['Daily_return'].mean()\n",
        "df['Daily_return'].mean()\n",
        "#Median calculation\n",
        "pf['Daily_return'].median()\n",
        "df['Daily_return'].median()\n",
        "#Standard Deviation calculation\n",
        "pf['Daily_return'].std()\n",
        "df['Daily_return'].std()\n",
        "#Percentile at 2.5% and 97.5%\n",
        "pf['Daily_return'].quantile(.025)\n",
        "pf['Daily_return'].quantile(.975)\n",
        "df['Daily_return'].quantile(.025)\n",
        "df['Daily_return'].quantile(.975)"
      ],
      "execution_count": null,
      "outputs": [
        {
          "output_type": "execute_result",
          "data": {
            "text/plain": [
              "0.031064500327150316"
            ]
          },
          "metadata": {},
          "execution_count": 22
        }
      ]
    },
    {
      "cell_type": "code",
      "metadata": {
        "id": "vY1OIcpQn2IL"
      },
      "source": [
        ""
      ],
      "execution_count": null,
      "outputs": []
    },
    {
      "cell_type": "markdown",
      "metadata": {
        "id": "d5Yh6MQKo4B4"
      },
      "source": [
        "Machine Learning\n"
      ]
    },
    {
      "cell_type": "code",
      "metadata": {
        "id": "p3HRNUiVo6K2"
      },
      "source": [
        "import pandas as pd\n",
        "import numpy as np\n",
        "import datetime as dt\n",
        "\n",
        "import matplotlib.pyplot as plt\n",
        "%matplotlib inline\n",
        "\n",
        "from matplotlib.pylab import rcParams\n",
        "rcParams['figure.figsize']=20,10\n",
        "from keras.models import Sequential\n",
        "from keras.layers import LSTM,Dropout,Dense\n",
        "\n",
        "\n",
        "from sklearn.preprocessing import MinMaxScaler\n"
      ],
      "execution_count": 29,
      "outputs": []
    },
    {
      "cell_type": "code",
      "metadata": {
        "id": "CV_CmEJj5pAY",
        "outputId": "ca2004bb-6ae6-4d69-84eb-ba54a24ef24c",
        "colab": {
          "base_uri": "https://localhost:8080/",
          "height": 203
        }
      },
      "source": [
        "cf=pd.read_csv(\"/content/NSE-Tata-Global-Beverages-Limited.csv\")\n",
        "cf.head()"
      ],
      "execution_count": 64,
      "outputs": [
        {
          "output_type": "execute_result",
          "data": {
            "text/html": [
              "<div>\n",
              "<style scoped>\n",
              "    .dataframe tbody tr th:only-of-type {\n",
              "        vertical-align: middle;\n",
              "    }\n",
              "\n",
              "    .dataframe tbody tr th {\n",
              "        vertical-align: top;\n",
              "    }\n",
              "\n",
              "    .dataframe thead th {\n",
              "        text-align: right;\n",
              "    }\n",
              "</style>\n",
              "<table border=\"1\" class=\"dataframe\">\n",
              "  <thead>\n",
              "    <tr style=\"text-align: right;\">\n",
              "      <th></th>\n",
              "      <th>Date</th>\n",
              "      <th>Open</th>\n",
              "      <th>High</th>\n",
              "      <th>Low</th>\n",
              "      <th>Last</th>\n",
              "      <th>Close</th>\n",
              "      <th>Total Trade Quantity</th>\n",
              "      <th>Turnover (Lacs)</th>\n",
              "    </tr>\n",
              "  </thead>\n",
              "  <tbody>\n",
              "    <tr>\n",
              "      <th>0</th>\n",
              "      <td>2018-10-08</td>\n",
              "      <td>208.00</td>\n",
              "      <td>222.25</td>\n",
              "      <td>206.85</td>\n",
              "      <td>216.00</td>\n",
              "      <td>215.15</td>\n",
              "      <td>4642146.0</td>\n",
              "      <td>10062.83</td>\n",
              "    </tr>\n",
              "    <tr>\n",
              "      <th>1</th>\n",
              "      <td>2018-10-05</td>\n",
              "      <td>217.00</td>\n",
              "      <td>218.60</td>\n",
              "      <td>205.90</td>\n",
              "      <td>210.25</td>\n",
              "      <td>209.20</td>\n",
              "      <td>3519515.0</td>\n",
              "      <td>7407.06</td>\n",
              "    </tr>\n",
              "    <tr>\n",
              "      <th>2</th>\n",
              "      <td>2018-10-04</td>\n",
              "      <td>223.50</td>\n",
              "      <td>227.80</td>\n",
              "      <td>216.15</td>\n",
              "      <td>217.25</td>\n",
              "      <td>218.20</td>\n",
              "      <td>1728786.0</td>\n",
              "      <td>3815.79</td>\n",
              "    </tr>\n",
              "    <tr>\n",
              "      <th>3</th>\n",
              "      <td>2018-10-03</td>\n",
              "      <td>230.00</td>\n",
              "      <td>237.50</td>\n",
              "      <td>225.75</td>\n",
              "      <td>226.45</td>\n",
              "      <td>227.60</td>\n",
              "      <td>1708590.0</td>\n",
              "      <td>3960.27</td>\n",
              "    </tr>\n",
              "    <tr>\n",
              "      <th>4</th>\n",
              "      <td>2018-10-01</td>\n",
              "      <td>234.55</td>\n",
              "      <td>234.60</td>\n",
              "      <td>221.05</td>\n",
              "      <td>230.30</td>\n",
              "      <td>230.90</td>\n",
              "      <td>1534749.0</td>\n",
              "      <td>3486.05</td>\n",
              "    </tr>\n",
              "  </tbody>\n",
              "</table>\n",
              "</div>"
            ],
            "text/plain": [
              "         Date    Open    High  ...   Close  Total Trade Quantity  Turnover (Lacs)\n",
              "0  2018-10-08  208.00  222.25  ...  215.15             4642146.0         10062.83\n",
              "1  2018-10-05  217.00  218.60  ...  209.20             3519515.0          7407.06\n",
              "2  2018-10-04  223.50  227.80  ...  218.20             1728786.0          3815.79\n",
              "3  2018-10-03  230.00  237.50  ...  227.60             1708590.0          3960.27\n",
              "4  2018-10-01  234.55  234.60  ...  230.90             1534749.0          3486.05\n",
              "\n",
              "[5 rows x 8 columns]"
            ]
          },
          "metadata": {},
          "execution_count": 64
        }
      ]
    },
    {
      "cell_type": "code",
      "metadata": {
        "id": "GEml1p_6pCH2"
      },
      "source": [
        "cf=pd.read_csv(\"/content/drive/MyDrive/NSE-Tata-Global-Beverages-Limited.csv\")\n",
        "cf.head()"
      ],
      "execution_count": null,
      "outputs": []
    },
    {
      "cell_type": "code",
      "metadata": {
        "colab": {
          "base_uri": "https://localhost:8080/",
          "height": 500
        },
        "id": "PfLkprEGp3uz",
        "outputId": "1ff6ccb9-4549-45c6-8ad4-a8ad5c5fd81f"
      },
      "source": [
        "cf[\"Date\"]=pd.to_datetime(cf.Date,format=\"%Y-%m-%d\")\n",
        "cf.index=cf['Date']\n",
        "\n",
        "plt.figure(figsize=(16,8))\n",
        "plt.plot(cf[\"Close\"],label='Close Price history')\n"
      ],
      "execution_count": 65,
      "outputs": [
        {
          "output_type": "execute_result",
          "data": {
            "text/plain": [
              "[<matplotlib.lines.Line2D at 0x7f3128945c10>]"
            ]
          },
          "metadata": {},
          "execution_count": 65
        },
        {
          "output_type": "display_data",
          "data": {
            "image/png": "[encoded data removed]",
            "text/plain": [
              "<Figure size 1152x576 with 1 Axes>"
            ]
          },
          "metadata": {
            "needs_background": "light"
          }
        }
      ]
    },
    {
      "cell_type": "code",
      "metadata": {
        "id": "Zdixt_S5qT7O"
      },
      "source": [
        "data=cf.sort_index(ascending=True,axis=0)\n",
        "new_dataset=pd.DataFrame(index=range(0,len(cf)),columns=['Date','Close'])\n",
        "\n",
        "for i in range(0,len(data)):\n",
        "    new_dataset[\"Date\"][i]=data['Date'][i]\n",
        "    new_dataset[\"Close\"][i]=data[\"Close\"][i]"
      ],
      "execution_count": 66,
      "outputs": []
    },
    {
      "cell_type": "code",
      "metadata": {
        "colab": {
          "base_uri": "https://localhost:8080/"
        },
        "id": "SO8WV96R_ZZG",
        "outputId": "2d661c7a-458f-44d5-b6b1-ef39f3bae646"
      },
      "source": [
        "new_dataset.shape"
      ],
      "execution_count": 43,
      "outputs": [
        {
          "output_type": "execute_result",
          "data": {
            "text/plain": [
              "(1235, 2)"
            ]
          },
          "metadata": {},
          "execution_count": 43
        }
      ]
    },
    {
      "cell_type": "code",
      "metadata": {
        "colab": {
          "base_uri": "https://localhost:8080/",
          "height": 203
        },
        "id": "3jUVv1AZANBT",
        "outputId": "17f961ff-3e47-4990-bd4f-9afcf190d633"
      },
      "source": [
        "new_dataset.head()"
      ],
      "execution_count": 69,
      "outputs": [
        {
          "output_type": "execute_result",
          "data": {
            "text/html": [
              "<div>\n",
              "<style scoped>\n",
              "    .dataframe tbody tr th:only-of-type {\n",
              "        vertical-align: middle;\n",
              "    }\n",
              "\n",
              "    .dataframe tbody tr th {\n",
              "        vertical-align: top;\n",
              "    }\n",
              "\n",
              "    .dataframe thead th {\n",
              "        text-align: right;\n",
              "    }\n",
              "</style>\n",
              "<table border=\"1\" class=\"dataframe\">\n",
              "  <thead>\n",
              "    <tr style=\"text-align: right;\">\n",
              "      <th></th>\n",
              "      <th>Date</th>\n",
              "      <th>Close</th>\n",
              "    </tr>\n",
              "  </thead>\n",
              "  <tbody>\n",
              "    <tr>\n",
              "      <th>0</th>\n",
              "      <td>2013-10-08 00:00:00</td>\n",
              "      <td>155.8</td>\n",
              "    </tr>\n",
              "    <tr>\n",
              "      <th>1</th>\n",
              "      <td>2013-10-09 00:00:00</td>\n",
              "      <td>155.55</td>\n",
              "    </tr>\n",
              "    <tr>\n",
              "      <th>2</th>\n",
              "      <td>2013-10-10 00:00:00</td>\n",
              "      <td>160.15</td>\n",
              "    </tr>\n",
              "    <tr>\n",
              "      <th>3</th>\n",
              "      <td>2013-10-11 00:00:00</td>\n",
              "      <td>160.05</td>\n",
              "    </tr>\n",
              "    <tr>\n",
              "      <th>4</th>\n",
              "      <td>2013-10-14 00:00:00</td>\n",
              "      <td>159.45</td>\n",
              "    </tr>\n",
              "  </tbody>\n",
              "</table>\n",
              "</div>"
            ],
            "text/plain": [
              "                  Date   Close\n",
              "0  2013-10-08 00:00:00   155.8\n",
              "1  2013-10-09 00:00:00  155.55\n",
              "2  2013-10-10 00:00:00  160.15\n",
              "3  2013-10-11 00:00:00  160.05\n",
              "4  2013-10-14 00:00:00  159.45"
            ]
          },
          "metadata": {},
          "execution_count": 69
        }
      ]
    },
    {
      "cell_type": "code",
      "metadata": {
        "id": "ELtdAOLf7lso",
        "outputId": "aedb3214-8c9b-44b3-a153-cad4e2bdeb95",
        "colab": {
          "base_uri": "https://localhost:8080/",
          "height": 69
        }
      },
      "source": [
        "new_dataset[\"Date\"].apply('str')"
      ],
      "execution_count": 68,
      "outputs": [
        {
          "output_type": "execute_result",
          "data": {
            "application/vnd.google.colaboratory.intrinsic+json": {
              "type": "string"
            },
            "text/plain": [
              "'0       2013-10-08 00:00:00\\n1       2013-10-09 00:00:00\\n2       2013-10-10 00:00:00\\n3       2013-10-11 00:00:00\\n4       2013-10-14 00:00:00\\n               ...         \\n1230    2018-10-01 00:00:00\\n1231    2018-10-03 00:00:00\\n1232    2018-10-04 00:00:00\\n1233    2018-10-05 00:00:00\\n1234    2018-10-08 00:00:00\\nName: Date, Length: 1235, dtype: object'"
            ]
          },
          "metadata": {},
          "execution_count": 68
        }
      ]
    },
    {
      "cell_type": "code",
      "metadata": {
        "id": "7HUROoB9_WfN"
      },
      "source": [
        "scaler=MinMaxScaler(feature_range=(0,1))\n",
        "final_dataset=new_dataset.values\n",
        "\n",
        "train_data=[]\n",
        "valid_data=[]"
      ],
      "execution_count": 70,
      "outputs": []
    },
    {
      "cell_type": "code",
      "metadata": {
        "id": "FWJc475W560Y",
        "outputId": "25569c7e-bc67-4e2b-ace3-d30364613ae7",
        "colab": {
          "base_uri": "https://localhost:8080/"
        }
      },
      "source": [
        "final_dataset.shape"
      ],
      "execution_count": 56,
      "outputs": [
        {
          "output_type": "execute_result",
          "data": {
            "text/plain": [
              "(1235, 2)"
            ]
          },
          "metadata": {},
          "execution_count": 56
        }
      ]
    },
    {
      "cell_type": "code",
      "metadata": {
        "id": "dYTR2xtR6Z8T"
      },
      "source": [
        "train_data=final_dataset[0:987,:]\n",
        "valid_data=final_dataset[987:,:]"
      ],
      "execution_count": 71,
      "outputs": []
    },
    {
      "cell_type": "code",
      "metadata": {
        "id": "G6Yji4yTAWi4"
      },
      "source": [
        "new_dataset.index=new_dataset.Date\n",
        "new_dataset.drop(\"Date\",axis=1,inplace=True)"
      ],
      "execution_count": 72,
      "outputs": []
    },
    {
      "cell_type": "code",
      "metadata": {
        "id": "IwrzirN6qhyY"
      },
      "source": [
        "# new_dataset.index=new_dataset.Date\n",
        "# new_dataset.drop(\"Date\",axis=1,inplace=True)\n",
        "\n",
        "scaler=MinMaxScaler(feature_range=(0,1))\n",
        "scaled_data=scaler.fit_transform(new_dataset)\n",
        "\n",
        "x_train_data,y_train_data=[],[]\n",
        "\n",
        "for i in range(60,len(train_data)):\n",
        "    x_train_data.append(scaled_data[i-60:i,0])\n",
        "    y_train_data.append(scaled_data[i,0])\n",
        "    \n",
        "x_train_data,y_train_data=np.array(x_train_data),np.array(y_train_data)\n",
        "\n",
        "x_train_data=np.reshape(x_train_data,(x_train_data.shape[0],x_train_data.shape[1],1))"
      ],
      "execution_count": 73,
      "outputs": []
    },
    {
      "cell_type": "code",
      "metadata": {
        "id": "F2DHyoiV-_eD",
        "outputId": "572f6b2d-9ad1-420a-bce1-dc07c83a6074",
        "colab": {
          "base_uri": "https://localhost:8080/"
        }
      },
      "source": [
        "y_train_data.shape"
      ],
      "execution_count": 76,
      "outputs": [
        {
          "output_type": "execute_result",
          "data": {
            "text/plain": [
              "(927,)"
            ]
          },
          "metadata": {},
          "execution_count": 76
        }
      ]
    },
    {
      "cell_type": "code",
      "metadata": {
        "id": "9B4kVJHy_Dn4",
        "outputId": "cf00d536-a812-4f13-b6fa-6b2552be32a3",
        "colab": {
          "base_uri": "https://localhost:8080/"
        }
      },
      "source": [
        "lstm_model=Sequential()\n",
        "lstm_model.add(LSTM(units=50,return_sequences=True,input_shape=(x_train_data.shape[1],1)))\n",
        "lstm_model.add(LSTM(units=50))\n",
        "lstm_model.add(Dense(1))\n",
        "\n",
        "inputs_data=new_dataset[len(new_dataset)-len(valid_data)-60:].values\n",
        "inputs_data=inputs_data.reshape(-1,1)\n",
        "inputs_data=scaler.transform(inputs_data)\n",
        "\n",
        "lstm_model.compile(loss='mean_squared_error',optimizer='adam')\n",
        "lstm_model.fit(x_train_data,y_train_data,epochs=25,batch_size=20,verbose=2)"
      ],
      "execution_count": 93,
      "outputs": [
        {
          "output_type": "stream",
          "name": "stdout",
          "text": [
            "Epoch 1/25\n",
            "47/47 - 6s - loss: 0.0040\n",
            "Epoch 2/25\n",
            "47/47 - 2s - loss: 8.0779e-04\n",
            "Epoch 3/25\n",
            "47/47 - 2s - loss: 7.4254e-04\n",
            "Epoch 4/25\n",
            "47/47 - 2s - loss: 7.2166e-04\n",
            "Epoch 5/25\n",
            "47/47 - 2s - loss: 6.6296e-04\n",
            "Epoch 6/25\n",
            "47/47 - 2s - loss: 7.1551e-04\n",
            "Epoch 7/25\n",
            "47/47 - 2s - loss: 5.9771e-04\n",
            "Epoch 8/25\n",
            "47/47 - 2s - loss: 5.3383e-04\n",
            "Epoch 9/25\n",
            "47/47 - 2s - loss: 5.0561e-04\n",
            "Epoch 10/25\n",
            "47/47 - 2s - loss: 4.8102e-04\n",
            "Epoch 11/25\n",
            "47/47 - 2s - loss: 4.6357e-04\n",
            "Epoch 12/25\n",
            "47/47 - 2s - loss: 4.3113e-04\n",
            "Epoch 13/25\n",
            "47/47 - 2s - loss: 4.2760e-04\n",
            "Epoch 14/25\n",
            "47/47 - 2s - loss: 3.9578e-04\n",
            "Epoch 15/25\n",
            "47/47 - 2s - loss: 3.7982e-04\n",
            "Epoch 16/25\n",
            "47/47 - 2s - loss: 3.9596e-04\n",
            "Epoch 17/25\n",
            "47/47 - 2s - loss: 3.9698e-04\n",
            "Epoch 18/25\n",
            "47/47 - 2s - loss: 3.6543e-04\n",
            "Epoch 19/25\n",
            "47/47 - 2s - loss: 3.2025e-04\n",
            "Epoch 20/25\n",
            "47/47 - 2s - loss: 3.1563e-04\n",
            "Epoch 21/25\n",
            "47/47 - 2s - loss: 3.2274e-04\n",
            "Epoch 22/25\n",
            "47/47 - 2s - loss: 3.1562e-04\n",
            "Epoch 23/25\n",
            "47/47 - 2s - loss: 2.9287e-04\n",
            "Epoch 24/25\n",
            "47/47 - 2s - loss: 2.9093e-04\n",
            "Epoch 25/25\n",
            "47/47 - 2s - loss: 2.7524e-04\n"
          ]
        },
        {
          "output_type": "execute_result",
          "data": {
            "text/plain": [
              "<keras.callbacks.History at 0x7f311cce77d0>"
            ]
          },
          "metadata": {},
          "execution_count": 93
        }
      ]
    },
    {
      "cell_type": "code",
      "metadata": {
        "id": "ucsDWIX8AzXY"
      },
      "source": [
        "X_test=[]\n",
        "for i in range(60,inputs_data.shape[0]):\n",
        "    X_test.append(inputs_data[i-60:i,0])\n",
        "X_test=np.array(X_test)\n",
        "\n",
        "X_test=np.reshape(X_test,(X_test.shape[0],X_test.shape[1],1))\n",
        "predicted_closing_price=lstm_model.predict(X_test)\n",
        "predicted_closing_price=scaler.inverse_transform(predicted_closing_price)"
      ],
      "execution_count": 94,
      "outputs": []
    },
    {
      "cell_type": "code",
      "metadata": {
        "id": "z_7LdRrKCDvD",
        "outputId": "6fb58618-25f7-49b8-867f-8a01c349575d",
        "colab": {
          "base_uri": "https://localhost:8080/",
          "height": 734
        }
      },
      "source": [
        "train_data=new_dataset[:987]\n",
        "valid_data=new_dataset[987:]\n",
        "valid_data['Predictions']=predicted_closing_price\n",
        "plt.plot(train_data[\"Close\"])\n",
        "plt.plot(valid_data[['Close',\"Predictions\"]])"
      ],
      "execution_count": 95,
      "outputs": [
        {
          "output_type": "stream",
          "name": "stderr",
          "text": [
            "/usr/local/lib/python3.7/dist-packages/ipykernel_launcher.py:3: SettingWithCopyWarning:\n",
            "\n",
            "\n",
            "A value is trying to be set on a copy of a slice from a DataFrame.\n",
            "Try using .loc[row_indexer,col_indexer] = value instead\n",
            "\n",
            "See the caveats in the documentation: https://pandas.pydata.org/pandas-docs/stable/user_guide/indexing.html#returning-a-view-versus-a-copy\n",
            "\n"
          ]
        },
        {
          "output_type": "execute_result",
          "data": {
            "text/plain": [
              "[<matplotlib.lines.Line2D at 0x7f311998fb10>,\n",
              " <matplotlib.lines.Line2D at 0x7f311ec240d0>]"
            ]
          },
          "metadata": {},
          "execution_count": 95
        },
        {
          "output_type": "display_data",
          "data": {
            "image/png": "[encoded data removed]",
            "text/plain": [
              "<Figure size 1440x720 with 1 Axes>"
            ]
          },
          "metadata": {
            "needs_background": "light"
          }
        }
      ]
    },
    {
      "cell_type": "code",
      "metadata": {
        "id": "2nhRyqFWCLPp",
        "outputId": "32039446-e4e5-4ecc-a4e7-dcf6abbcd4bd",
        "colab": {
          "base_uri": "https://localhost:8080/",
          "height": 696
        }
      },
      "source": [
        "valid_data.head(20)"
      ],
      "execution_count": 97,
      "outputs": [
        {
          "output_type": "execute_result",
          "data": {
            "text/html": [
              "<div>\n",
              "<style scoped>\n",
              "    .dataframe tbody tr th:only-of-type {\n",
              "        vertical-align: middle;\n",
              "    }\n",
              "\n",
              "    .dataframe tbody tr th {\n",
              "        vertical-align: top;\n",
              "    }\n",
              "\n",
              "    .dataframe thead th {\n",
              "        text-align: right;\n",
              "    }\n",
              "</style>\n",
              "<table border=\"1\" class=\"dataframe\">\n",
              "  <thead>\n",
              "    <tr style=\"text-align: right;\">\n",
              "      <th></th>\n",
              "      <th>Close</th>\n",
              "      <th>Predictions</th>\n",
              "    </tr>\n",
              "    <tr>\n",
              "      <th>Date</th>\n",
              "      <th></th>\n",
              "      <th></th>\n",
              "    </tr>\n",
              "  </thead>\n",
              "  <tbody>\n",
              "    <tr>\n",
              "      <th>2017-10-09</th>\n",
              "      <td>208.3</td>\n",
              "      <td>209.208435</td>\n",
              "    </tr>\n",
              "    <tr>\n",
              "      <th>2017-10-10</th>\n",
              "      <td>208.45</td>\n",
              "      <td>209.024887</td>\n",
              "    </tr>\n",
              "    <tr>\n",
              "      <th>2017-10-11</th>\n",
              "      <td>209.4</td>\n",
              "      <td>208.350525</td>\n",
              "    </tr>\n",
              "    <tr>\n",
              "      <th>2017-10-12</th>\n",
              "      <td>212</td>\n",
              "      <td>208.030426</td>\n",
              "    </tr>\n",
              "    <tr>\n",
              "      <th>2017-10-13</th>\n",
              "      <td>210.25</td>\n",
              "      <td>208.974350</td>\n",
              "    </tr>\n",
              "    <tr>\n",
              "      <th>2017-10-16</th>\n",
              "      <td>209.6</td>\n",
              "      <td>209.242142</td>\n",
              "    </tr>\n",
              "    <tr>\n",
              "      <th>2017-10-17</th>\n",
              "      <td>210.3</td>\n",
              "      <td>208.933380</td>\n",
              "    </tr>\n",
              "    <tr>\n",
              "      <th>2017-10-18</th>\n",
              "      <td>206.8</td>\n",
              "      <td>208.842194</td>\n",
              "    </tr>\n",
              "    <tr>\n",
              "      <th>2017-10-19</th>\n",
              "      <td>204.6</td>\n",
              "      <td>207.411865</td>\n",
              "    </tr>\n",
              "    <tr>\n",
              "      <th>2017-10-23</th>\n",
              "      <td>203.1</td>\n",
              "      <td>205.221359</td>\n",
              "    </tr>\n",
              "    <tr>\n",
              "      <th>2017-10-24</th>\n",
              "      <td>209.65</td>\n",
              "      <td>203.052628</td>\n",
              "    </tr>\n",
              "    <tr>\n",
              "      <th>2017-10-25</th>\n",
              "      <td>205.3</td>\n",
              "      <td>204.535873</td>\n",
              "    </tr>\n",
              "    <tr>\n",
              "      <th>2017-10-26</th>\n",
              "      <td>209.8</td>\n",
              "      <td>204.984711</td>\n",
              "    </tr>\n",
              "    <tr>\n",
              "      <th>2017-10-27</th>\n",
              "      <td>220.5</td>\n",
              "      <td>206.921082</td>\n",
              "    </tr>\n",
              "    <tr>\n",
              "      <th>2017-10-30</th>\n",
              "      <td>226.8</td>\n",
              "      <td>213.082230</td>\n",
              "    </tr>\n",
              "    <tr>\n",
              "      <th>2017-10-31</th>\n",
              "      <td>226.95</td>\n",
              "      <td>220.917496</td>\n",
              "    </tr>\n",
              "    <tr>\n",
              "      <th>2017-11-01</th>\n",
              "      <td>227.8</td>\n",
              "      <td>226.217941</td>\n",
              "    </tr>\n",
              "    <tr>\n",
              "      <th>2017-11-02</th>\n",
              "      <td>226.35</td>\n",
              "      <td>228.670578</td>\n",
              "    </tr>\n",
              "    <tr>\n",
              "      <th>2017-11-03</th>\n",
              "      <td>225.3</td>\n",
              "      <td>228.174942</td>\n",
              "    </tr>\n",
              "    <tr>\n",
              "      <th>2017-11-06</th>\n",
              "      <td>234.7</td>\n",
              "      <td>226.083603</td>\n",
              "    </tr>\n",
              "  </tbody>\n",
              "</table>\n",
              "</div>"
            ],
            "text/plain": [
              "             Close  Predictions\n",
              "Date                           \n",
              "2017-10-09   208.3   209.208435\n",
              "2017-10-10  208.45   209.024887\n",
              "2017-10-11   209.4   208.350525\n",
              "2017-10-12     212   208.030426\n",
              "2017-10-13  210.25   208.974350\n",
              "2017-10-16   209.6   209.242142\n",
              "2017-10-17   210.3   208.933380\n",
              "2017-10-18   206.8   208.842194\n",
              "2017-10-19   204.6   207.411865\n",
              "2017-10-23   203.1   205.221359\n",
              "2017-10-24  209.65   203.052628\n",
              "2017-10-25   205.3   204.535873\n",
              "2017-10-26   209.8   204.984711\n",
              "2017-10-27   220.5   206.921082\n",
              "2017-10-30   226.8   213.082230\n",
              "2017-10-31  226.95   220.917496\n",
              "2017-11-01   227.8   226.217941\n",
              "2017-11-02  226.35   228.670578\n",
              "2017-11-03   225.3   228.174942\n",
              "2017-11-06   234.7   226.083603"
            ]
          },
          "metadata": {},
          "execution_count": 97
        }
      ]
    },
    {
      "cell_type": "code",
      "metadata": {
        "id": "Uq1_4yo6IgkD"
      },
      "source": [
        ""
      ],
      "execution_count": 96,
      "outputs": []
    }
  ]
}